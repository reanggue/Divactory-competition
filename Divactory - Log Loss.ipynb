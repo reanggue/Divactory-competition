{
 "cells": [
  {
   "cell_type": "code",
   "execution_count": 1,
   "metadata": {
    "collapsed": true
   },
   "outputs": [],
   "source": [
    "import numpy as np\n",
    "import pandas as pd\n",
    "import seaborn as sns\n",
    "from scipy import stats\n",
    "import matplotlib as mpl\n",
    "import matplotlib.pyplot as plt"
   ]
  },
  {
   "cell_type": "code",
   "execution_count": 2,
   "metadata": {
    "collapsed": false
   },
   "outputs": [
    {
     "data": {
      "text/html": [
       "<div>\n",
       "<table border=\"1\" class=\"dataframe\">\n",
       "  <thead>\n",
       "    <tr style=\"text-align: right;\">\n",
       "      <th></th>\n",
       "      <th>peubah1</th>\n",
       "      <th>peubah2</th>\n",
       "      <th>peubah3</th>\n",
       "      <th>peubah4</th>\n",
       "      <th>peubah5</th>\n",
       "      <th>peubah6</th>\n",
       "      <th>peubah7</th>\n",
       "      <th>peubah8</th>\n",
       "      <th>peubah9</th>\n",
       "      <th>peubah10</th>\n",
       "      <th>...</th>\n",
       "      <th>peubah13</th>\n",
       "      <th>peubah14</th>\n",
       "      <th>peubah15</th>\n",
       "      <th>peubah16</th>\n",
       "      <th>peubah17</th>\n",
       "      <th>peubah18</th>\n",
       "      <th>peubah19</th>\n",
       "      <th>peubah20</th>\n",
       "      <th>peubah21</th>\n",
       "      <th>target</th>\n",
       "    </tr>\n",
       "  </thead>\n",
       "  <tbody>\n",
       "    <tr>\n",
       "      <th>0</th>\n",
       "      <td>0.416471</td>\n",
       "      <td>0.433618</td>\n",
       "      <td>0.480263</td>\n",
       "      <td>0.391386</td>\n",
       "      <td>0.312282</td>\n",
       "      <td>0.350107</td>\n",
       "      <td>0.479583</td>\n",
       "      <td>0.366904</td>\n",
       "      <td>0.297115</td>\n",
       "      <td>0.407623</td>\n",
       "      <td>...</td>\n",
       "      <td>0.346316</td>\n",
       "      <td>0.519490</td>\n",
       "      <td>0.462123</td>\n",
       "      <td>0.351881</td>\n",
       "      <td>0.454687</td>\n",
       "      <td>0.480554</td>\n",
       "      <td>0.441771</td>\n",
       "      <td>0.381719</td>\n",
       "      <td>0.360698</td>\n",
       "      <td>1</td>\n",
       "    </tr>\n",
       "    <tr>\n",
       "      <th>1</th>\n",
       "      <td>0.393217</td>\n",
       "      <td>0.461127</td>\n",
       "      <td>0.453290</td>\n",
       "      <td>0.404972</td>\n",
       "      <td>0.376990</td>\n",
       "      <td>0.392576</td>\n",
       "      <td>0.406791</td>\n",
       "      <td>0.408893</td>\n",
       "      <td>0.255766</td>\n",
       "      <td>0.491208</td>\n",
       "      <td>...</td>\n",
       "      <td>0.358346</td>\n",
       "      <td>0.479205</td>\n",
       "      <td>0.447285</td>\n",
       "      <td>0.335229</td>\n",
       "      <td>0.445615</td>\n",
       "      <td>0.451973</td>\n",
       "      <td>0.421719</td>\n",
       "      <td>0.376270</td>\n",
       "      <td>0.305129</td>\n",
       "      <td>0</td>\n",
       "    </tr>\n",
       "    <tr>\n",
       "      <th>2</th>\n",
       "      <td>0.411785</td>\n",
       "      <td>0.463772</td>\n",
       "      <td>0.417967</td>\n",
       "      <td>0.454509</td>\n",
       "      <td>0.415468</td>\n",
       "      <td>0.418473</td>\n",
       "      <td>0.335786</td>\n",
       "      <td>0.397057</td>\n",
       "      <td>0.359163</td>\n",
       "      <td>0.497376</td>\n",
       "      <td>...</td>\n",
       "      <td>0.396283</td>\n",
       "      <td>0.412580</td>\n",
       "      <td>0.368068</td>\n",
       "      <td>0.388834</td>\n",
       "      <td>0.415171</td>\n",
       "      <td>0.412811</td>\n",
       "      <td>0.359205</td>\n",
       "      <td>0.373100</td>\n",
       "      <td>0.299415</td>\n",
       "      <td>0</td>\n",
       "    </tr>\n",
       "    <tr>\n",
       "      <th>3</th>\n",
       "      <td>0.416128</td>\n",
       "      <td>0.434078</td>\n",
       "      <td>0.483265</td>\n",
       "      <td>0.357681</td>\n",
       "      <td>0.308477</td>\n",
       "      <td>0.342319</td>\n",
       "      <td>0.500872</td>\n",
       "      <td>0.375741</td>\n",
       "      <td>0.270538</td>\n",
       "      <td>0.421817</td>\n",
       "      <td>...</td>\n",
       "      <td>0.339275</td>\n",
       "      <td>0.538065</td>\n",
       "      <td>0.476383</td>\n",
       "      <td>0.341957</td>\n",
       "      <td>0.457817</td>\n",
       "      <td>0.490621</td>\n",
       "      <td>0.454611</td>\n",
       "      <td>0.392002</td>\n",
       "      <td>0.369631</td>\n",
       "      <td>1</td>\n",
       "    </tr>\n",
       "    <tr>\n",
       "      <th>4</th>\n",
       "      <td>0.431211</td>\n",
       "      <td>0.460969</td>\n",
       "      <td>0.418770</td>\n",
       "      <td>0.449622</td>\n",
       "      <td>0.409211</td>\n",
       "      <td>0.449635</td>\n",
       "      <td>0.370591</td>\n",
       "      <td>0.372039</td>\n",
       "      <td>0.324457</td>\n",
       "      <td>0.457634</td>\n",
       "      <td>...</td>\n",
       "      <td>0.404351</td>\n",
       "      <td>0.423462</td>\n",
       "      <td>0.393851</td>\n",
       "      <td>0.387756</td>\n",
       "      <td>0.408308</td>\n",
       "      <td>0.411725</td>\n",
       "      <td>0.390778</td>\n",
       "      <td>0.366613</td>\n",
       "      <td>0.321540</td>\n",
       "      <td>1</td>\n",
       "    </tr>\n",
       "  </tbody>\n",
       "</table>\n",
       "<p>5 rows × 22 columns</p>\n",
       "</div>"
      ],
      "text/plain": [
       "    peubah1   peubah2   peubah3   peubah4   peubah5   peubah6   peubah7  \\\n",
       "0  0.416471  0.433618  0.480263  0.391386  0.312282  0.350107  0.479583   \n",
       "1  0.393217  0.461127  0.453290  0.404972  0.376990  0.392576  0.406791   \n",
       "2  0.411785  0.463772  0.417967  0.454509  0.415468  0.418473  0.335786   \n",
       "3  0.416128  0.434078  0.483265  0.357681  0.308477  0.342319  0.500872   \n",
       "4  0.431211  0.460969  0.418770  0.449622  0.409211  0.449635  0.370591   \n",
       "\n",
       "    peubah8   peubah9  peubah10   ...    peubah13  peubah14  peubah15  \\\n",
       "0  0.366904  0.297115  0.407623   ...    0.346316  0.519490  0.462123   \n",
       "1  0.408893  0.255766  0.491208   ...    0.358346  0.479205  0.447285   \n",
       "2  0.397057  0.359163  0.497376   ...    0.396283  0.412580  0.368068   \n",
       "3  0.375741  0.270538  0.421817   ...    0.339275  0.538065  0.476383   \n",
       "4  0.372039  0.324457  0.457634   ...    0.404351  0.423462  0.393851   \n",
       "\n",
       "   peubah16  peubah17  peubah18  peubah19  peubah20  peubah21  target  \n",
       "0  0.351881  0.454687  0.480554  0.441771  0.381719  0.360698       1  \n",
       "1  0.335229  0.445615  0.451973  0.421719  0.376270  0.305129       0  \n",
       "2  0.388834  0.415171  0.412811  0.359205  0.373100  0.299415       0  \n",
       "3  0.341957  0.457817  0.490621  0.454611  0.392002  0.369631       1  \n",
       "4  0.387756  0.408308  0.411725  0.390778  0.366613  0.321540       1  \n",
       "\n",
       "[5 rows x 22 columns]"
      ]
     },
     "execution_count": 2,
     "metadata": {},
     "output_type": "execute_result"
    }
   ],
   "source": [
    "data = pd.read_csv(\"Training Data.csv\")\n",
    "data.head()"
   ]
  },
  {
   "cell_type": "code",
   "execution_count": 3,
   "metadata": {
    "collapsed": false
   },
   "outputs": [
    {
     "data": {
      "text/plain": [
       "(21681, 22)"
      ]
     },
     "execution_count": 3,
     "metadata": {},
     "output_type": "execute_result"
    }
   ],
   "source": [
    "data.shape"
   ]
  },
  {
   "cell_type": "code",
   "execution_count": 4,
   "metadata": {
    "collapsed": false
   },
   "outputs": [
    {
     "data": {
      "text/plain": [
       "peubah1     0\n",
       "peubah2     0\n",
       "peubah3     0\n",
       "peubah4     0\n",
       "peubah5     0\n",
       "peubah6     0\n",
       "peubah7     0\n",
       "peubah8     0\n",
       "peubah9     0\n",
       "peubah10    0\n",
       "peubah11    0\n",
       "peubah12    0\n",
       "peubah13    0\n",
       "peubah14    0\n",
       "peubah15    0\n",
       "peubah16    0\n",
       "peubah17    0\n",
       "peubah18    0\n",
       "peubah19    0\n",
       "peubah20    0\n",
       "peubah21    0\n",
       "target      0\n",
       "dtype: int64"
      ]
     },
     "execution_count": 4,
     "metadata": {},
     "output_type": "execute_result"
    }
   ],
   "source": [
    "data.isnull().sum()"
   ]
  },
  {
   "cell_type": "code",
   "execution_count": 6,
   "metadata": {
    "collapsed": true
   },
   "outputs": [],
   "source": [
    "def extractData(data):\n",
    "    y = data[\"target\"]\n",
    "    x = data.drop([\"target\"], axis = 1)\n",
    "    \n",
    "    return x, y, data"
   ]
  },
  {
   "cell_type": "code",
   "execution_count": 7,
   "metadata": {
    "collapsed": true
   },
   "outputs": [],
   "source": [
    "x, y, data = extractData(data)"
   ]
  },
  {
   "cell_type": "code",
   "execution_count": 8,
   "metadata": {
    "collapsed": false
   },
   "outputs": [
    {
     "data": {
      "text/plain": [
       "1    0.503897\n",
       "0    0.496103\n",
       "Name: target, dtype: float64"
      ]
     },
     "execution_count": 8,
     "metadata": {},
     "output_type": "execute_result"
    }
   ],
   "source": [
    "y.value_counts(normalize=True)"
   ]
  },
  {
   "cell_type": "markdown",
   "metadata": {},
   "source": [
    "## Train Test Split"
   ]
  },
  {
   "cell_type": "code",
   "execution_count": 9,
   "metadata": {
    "collapsed": true
   },
   "outputs": [],
   "source": [
    "from sklearn.model_selection import train_test_split\n",
    "x_train, x_test, y_train, y_test = train_test_split(x, y, test_size = 1.0/3, random_state = 123)"
   ]
  },
  {
   "cell_type": "markdown",
   "metadata": {},
   "source": [
    "## The Classifier"
   ]
  },
  {
   "cell_type": "code",
   "execution_count": 10,
   "metadata": {
    "collapsed": true
   },
   "outputs": [],
   "source": [
    "from sklearn.linear_model import LogisticRegression, LogisticRegressionCV\n",
    "from sklearn.tree import DecisionTreeClassifier, ExtraTreeClassifier\n",
    "from sklearn.naive_bayes import BernoulliNB, GaussianNB\n",
    "from sklearn.neighbors import KNeighborsClassifier\n",
    "from sklearn.svm import LinearSVC, SVC\n",
    "from sklearn.ensemble import BaggingClassifier, RandomForestClassifier\n",
    "from sklearn.ensemble import AdaBoostClassifier, GradientBoostingClassifier\n",
    "from sklearn.model_selection import cross_val_score, RandomizedSearchCV, GridSearchCV\n",
    "from sklearn.metrics import accuracy_score, recall_score, precision_score, f1_score, roc_auc_score, log_loss\n",
    "from sklearn.externals import joblib"
   ]
  },
  {
   "cell_type": "code",
   "execution_count": 11,
   "metadata": {
    "collapsed": true
   },
   "outputs": [],
   "source": [
    "def evalModel(x, y, clf):\n",
    "    print \"Accuracy  : %.5f\" % accuracy_score(y, clf.predict(x))\n",
    "    print \"Recall    : %.5f\" % recall_score(y, clf.predict(x))\n",
    "    print \"Precision : %.5f\" % precision_score(y, clf.predict(x))\n",
    "    print \"F1 score  : %.5f\" % f1_score(y, clf.predict(x))\n",
    "    print \"Log_loss  : %.5f\" % log_loss(y, clf.predict_proba(x))\n",
    "    print \"AUC score : %.5f\" % roc_auc_score(y, clf.predict_proba(x)[:,1])"
   ]
  },
  {
   "cell_type": "markdown",
   "metadata": {},
   "source": [
    "## Logistic Regressions"
   ]
  },
  {
   "cell_type": "code",
   "execution_count": 12,
   "metadata": {
    "collapsed": false
   },
   "outputs": [
    {
     "data": {
      "text/plain": [
       "LogisticRegression(C=1.0, class_weight=None, dual=False, fit_intercept=True,\n",
       "          intercept_scaling=1, max_iter=100, multi_class='ovr', n_jobs=1,\n",
       "          penalty='l2', random_state=123, solver='liblinear', tol=0.0001,\n",
       "          verbose=0, warm_start=False)"
      ]
     },
     "execution_count": 12,
     "metadata": {},
     "output_type": "execute_result"
    }
   ],
   "source": [
    "logreg = LogisticRegression(random_state=123)\n",
    "logreg.fit(x_train, y_train)"
   ]
  },
  {
   "cell_type": "markdown",
   "metadata": {},
   "source": [
    "* Model Evaluation"
   ]
  },
  {
   "cell_type": "code",
   "execution_count": 13,
   "metadata": {
    "collapsed": false
   },
   "outputs": [
    {
     "name": "stdout",
     "output_type": "stream",
     "text": [
      "Accuracy  : 0.52435\n",
      "Recall    : 0.61412\n",
      "Precision : 0.52609\n",
      "F1 score  : 0.56671\n",
      "Log_loss  : 0.69153\n",
      "AUC score : 0.53192\n"
     ]
    }
   ],
   "source": [
    "evalModel(x_train, y_train, logreg)"
   ]
  },
  {
   "cell_type": "code",
   "execution_count": 14,
   "metadata": {
    "collapsed": false
   },
   "outputs": [
    {
     "name": "stdout",
     "output_type": "stream",
     "text": [
      "Accuracy  : 0.51695\n",
      "Recall    : 0.60072\n",
      "Precision : 0.51340\n",
      "F1 score  : 0.55364\n",
      "Log_loss  : 0.69297\n",
      "AUC score : 0.51673\n"
     ]
    }
   ],
   "source": [
    "evalModel(x_test, y_test, logreg)"
   ]
  },
  {
   "cell_type": "markdown",
   "metadata": {},
   "source": [
    "* Cross Validation"
   ]
  },
  {
   "cell_type": "code",
   "execution_count": 15,
   "metadata": {
    "collapsed": false
   },
   "outputs": [
    {
     "name": "stdout",
     "output_type": "stream",
     "text": [
      "Accuracy: 0.5226 (+/- 0.0081)\n"
     ]
    }
   ],
   "source": [
    "scoreLogReg = cross_val_score(logreg, x_train, y_train, cv = 5, scoring=\"accuracy\")\n",
    "print \"Accuracy: %0.4f (+/- %0.4f)\" % (scoreLogReg.mean(), scoreLogReg.std())"
   ]
  },
  {
   "cell_type": "markdown",
   "metadata": {},
   "source": [
    "## Randomized Search"
   ]
  },
  {
   "cell_type": "code",
   "execution_count": 16,
   "metadata": {
    "collapsed": true
   },
   "outputs": [],
   "source": [
    "param = {'C': [0.01, 0.033, 0.1, 0.33, 1, 3, 10, 33, 100, 333]}"
   ]
  },
  {
   "cell_type": "code",
   "execution_count": 17,
   "metadata": {
    "collapsed": false
   },
   "outputs": [
    {
     "name": "stdout",
     "output_type": "stream",
     "text": [
      "Fitting 5 folds for each of 5 candidates, totalling 25 fits\n"
     ]
    },
    {
     "name": "stderr",
     "output_type": "stream",
     "text": [
      "[Parallel(n_jobs=-1)]: Done  25 out of  25 | elapsed:   16.0s finished\n"
     ]
    },
    {
     "data": {
      "text/plain": [
       "{'C': 100}"
      ]
     },
     "execution_count": 17,
     "metadata": {},
     "output_type": "execute_result"
    }
   ],
   "source": [
    "rsLogReg = RandomizedSearchCV(estimator=logreg, param_distributions=param, cv=5, \n",
    "                        n_iter=5, n_jobs=-1, verbose=True, scoring=\"accuracy\")\n",
    "rsLogReg.fit(x_train, y_train)\n",
    "rsLogReg.best_params_"
   ]
  },
  {
   "cell_type": "code",
   "execution_count": 18,
   "metadata": {
    "collapsed": false
   },
   "outputs": [
    {
     "data": {
      "text/plain": [
       "0.52421475024214748"
      ]
     },
     "execution_count": 18,
     "metadata": {},
     "output_type": "execute_result"
    }
   ],
   "source": [
    "rsLogReg.best_score_"
   ]
  },
  {
   "cell_type": "markdown",
   "metadata": {},
   "source": [
    "* Grid Search"
   ]
  },
  {
   "cell_type": "code",
   "execution_count": 19,
   "metadata": {
    "collapsed": false
   },
   "outputs": [
    {
     "name": "stdout",
     "output_type": "stream",
     "text": [
      "Fitting 5 folds for each of 10 candidates, totalling 50 fits\n"
     ]
    },
    {
     "name": "stderr",
     "output_type": "stream",
     "text": [
      "[Parallel(n_jobs=-1)]: Done  34 tasks      | elapsed:   15.7s\n",
      "[Parallel(n_jobs=-1)]: Done  50 out of  50 | elapsed:   17.1s finished\n"
     ]
    },
    {
     "data": {
      "text/plain": [
       "{'C': 100}"
      ]
     },
     "execution_count": 19,
     "metadata": {},
     "output_type": "execute_result"
    }
   ],
   "source": [
    "gsLogReg = GridSearchCV(estimator=logreg, param_grid=param, cv=5, \n",
    "                  n_jobs=-1, verbose=True, scoring=\"accuracy\")\n",
    "gsLogReg.fit(x_train, y_train)\n",
    "gsLogReg.best_params_"
   ]
  },
  {
   "cell_type": "code",
   "execution_count": 20,
   "metadata": {
    "collapsed": false
   },
   "outputs": [
    {
     "data": {
      "text/plain": [
       "0.52421475024214748"
      ]
     },
     "execution_count": 20,
     "metadata": {},
     "output_type": "execute_result"
    }
   ],
   "source": [
    "gsLogReg.best_score_"
   ]
  },
  {
   "cell_type": "markdown",
   "metadata": {},
   "source": [
    "* Fit the best Model"
   ]
  },
  {
   "cell_type": "code",
   "execution_count": 142,
   "metadata": {
    "collapsed": false
   },
   "outputs": [
    {
     "data": {
      "text/plain": [
       "LogisticRegression(C=100, class_weight=None, dual=False, fit_intercept=True,\n",
       "          intercept_scaling=1, max_iter=100, multi_class='ovr', n_jobs=1,\n",
       "          penalty='l2', random_state=123, solver='liblinear', tol=0.0001,\n",
       "          verbose=0, warm_start=False)"
      ]
     },
     "execution_count": 142,
     "metadata": {},
     "output_type": "execute_result"
    }
   ],
   "source": [
    "logregBest = LogisticRegression(C=100, random_state=123)\n",
    "logregBest.fit(x_train, y_train)"
   ]
  },
  {
   "cell_type": "code",
   "execution_count": 143,
   "metadata": {
    "collapsed": false
   },
   "outputs": [
    {
     "name": "stdout",
     "output_type": "stream",
     "text": [
      "Accuracy  : 0.51557\n",
      "Recall    : 0.60322\n",
      "Precision : 0.51213\n",
      "F1 score  : 0.55396\n",
      "Log_loss  : 0.69291\n",
      "AUC score : 0.51994\n"
     ]
    }
   ],
   "source": [
    "evalModel(x_test, y_test, logregBest)"
   ]
  },
  {
   "cell_type": "markdown",
   "metadata": {},
   "source": [
    "* Save Model"
   ]
  },
  {
   "cell_type": "code",
   "execution_count": 144,
   "metadata": {
    "collapsed": false
   },
   "outputs": [
    {
     "data": {
      "text/plain": [
       "['logreg.pkl']"
      ]
     },
     "execution_count": 144,
     "metadata": {},
     "output_type": "execute_result"
    }
   ],
   "source": [
    "joblib.dump(logregBest, \"logreg.pkl\")"
   ]
  },
  {
   "cell_type": "code",
   "execution_count": null,
   "metadata": {
    "collapsed": true
   },
   "outputs": [],
   "source": []
  },
  {
   "cell_type": "markdown",
   "metadata": {},
   "source": [
    "## Naive Bayes"
   ]
  },
  {
   "cell_type": "code",
   "execution_count": 24,
   "metadata": {
    "collapsed": false
   },
   "outputs": [
    {
     "data": {
      "text/plain": [
       "GaussianNB(priors=None)"
      ]
     },
     "execution_count": 24,
     "metadata": {},
     "output_type": "execute_result"
    }
   ],
   "source": [
    "gausNB = GaussianNB()\n",
    "gausNB.fit(x_train, y_train)"
   ]
  },
  {
   "cell_type": "markdown",
   "metadata": {},
   "source": [
    "* Model Evaluation"
   ]
  },
  {
   "cell_type": "code",
   "execution_count": 25,
   "metadata": {
    "collapsed": false
   },
   "outputs": [
    {
     "name": "stdout",
     "output_type": "stream",
     "text": [
      "Accuracy  : 0.51481\n",
      "Recall    : 0.44092\n",
      "Precision : 0.52505\n",
      "F1 score  : 0.47932\n",
      "Log_loss  : 0.71221\n",
      "AUC score : 0.52268\n"
     ]
    }
   ],
   "source": [
    "evalModel(x_train, y_train, gausNB)"
   ]
  },
  {
   "cell_type": "code",
   "execution_count": 26,
   "metadata": {
    "collapsed": false
   },
   "outputs": [
    {
     "name": "stdout",
     "output_type": "stream",
     "text": [
      "Accuracy  : 0.50560\n",
      "Recall    : 0.43590\n",
      "Precision : 0.50498\n",
      "F1 score  : 0.46791\n",
      "Log_loss  : 0.71835\n",
      "AUC score : 0.50877\n"
     ]
    }
   ],
   "source": [
    "evalModel(x_test, y_test, gausNB)"
   ]
  },
  {
   "cell_type": "markdown",
   "metadata": {},
   "source": [
    "* Cross Validation"
   ]
  },
  {
   "cell_type": "code",
   "execution_count": 27,
   "metadata": {
    "collapsed": false
   },
   "outputs": [
    {
     "name": "stdout",
     "output_type": "stream",
     "text": [
      "Accuracy: 0.5100 (+/- 0.0076)\n"
     ]
    }
   ],
   "source": [
    "scoreGausNB = cross_val_score(gausNB, x_train, y_train, cv = 7)\n",
    "print \"Accuracy: %0.4f (+/- %0.4f)\" % (scoreGausNB.mean(), scoreGausNB.std())"
   ]
  },
  {
   "cell_type": "code",
   "execution_count": 28,
   "metadata": {
    "collapsed": false
   },
   "outputs": [
    {
     "data": {
      "text/plain": [
       "BernoulliNB(alpha=1.0, binarize=0.0, class_prior=None, fit_prior=True)"
      ]
     },
     "execution_count": 28,
     "metadata": {},
     "output_type": "execute_result"
    }
   ],
   "source": [
    "berNB = BernoulliNB()\n",
    "berNB.fit(x_train, y_train)"
   ]
  },
  {
   "cell_type": "markdown",
   "metadata": {},
   "source": [
    "* Model Evaluation"
   ]
  },
  {
   "cell_type": "code",
   "execution_count": 29,
   "metadata": {
    "collapsed": false
   },
   "outputs": [
    {
     "name": "stdout",
     "output_type": "stream",
     "text": [
      "Accuracy  : 0.50657\n",
      "Recall    : 1.00000\n",
      "Precision : 0.50654\n",
      "F1 score  : 0.67245\n",
      "Log_loss  : 0.69300\n",
      "AUC score : 0.50021\n"
     ]
    }
   ],
   "source": [
    "evalModel(x_train, y_train, berNB)"
   ]
  },
  {
   "cell_type": "code",
   "execution_count": 30,
   "metadata": {
    "collapsed": false
   },
   "outputs": [
    {
     "name": "stdout",
     "output_type": "stream",
     "text": [
      "Accuracy  : 0.49869\n",
      "Recall    : 1.00000\n",
      "Precision : 0.49869\n",
      "F1 score  : 0.66550\n",
      "Log_loss  : 0.69327\n",
      "AUC score : 0.50000\n"
     ]
    }
   ],
   "source": [
    "evalModel(x_test, y_test, berNB)"
   ]
  },
  {
   "cell_type": "markdown",
   "metadata": {},
   "source": [
    "* Cross Validation"
   ]
  },
  {
   "cell_type": "code",
   "execution_count": 32,
   "metadata": {
    "collapsed": false
   },
   "outputs": [
    {
     "name": "stdout",
     "output_type": "stream",
     "text": [
      "Accuracy: 0.5100 (+/- 0.0076)\n"
     ]
    }
   ],
   "source": [
    "scoreBerNB = cross_val_score(gausNB, x_train, y_train, cv = 7)\n",
    "print \"Accuracy: %0.4f (+/- %0.4f)\" % (scoreBerNB.mean(), scoreBerNB.std())"
   ]
  },
  {
   "cell_type": "code",
   "execution_count": null,
   "metadata": {
    "collapsed": true
   },
   "outputs": [],
   "source": []
  },
  {
   "cell_type": "markdown",
   "metadata": {},
   "source": [
    "## K-Nearst Neighbor"
   ]
  },
  {
   "cell_type": "code",
   "execution_count": 33,
   "metadata": {
    "collapsed": false
   },
   "outputs": [
    {
     "data": {
      "text/plain": [
       "KNeighborsClassifier(algorithm='auto', leaf_size=30, metric='minkowski',\n",
       "           metric_params=None, n_jobs=-1, n_neighbors=5, p=2,\n",
       "           weights='uniform')"
      ]
     },
     "execution_count": 33,
     "metadata": {},
     "output_type": "execute_result"
    }
   ],
   "source": [
    "knn = KNeighborsClassifier(n_jobs=-1)\n",
    "knn.fit(x_train, y_train)"
   ]
  },
  {
   "cell_type": "markdown",
   "metadata": {},
   "source": [
    "* Model Evaluation"
   ]
  },
  {
   "cell_type": "code",
   "execution_count": 34,
   "metadata": {
    "collapsed": false
   },
   "outputs": [
    {
     "name": "stdout",
     "output_type": "stream",
     "text": [
      "Accuracy  : 0.69012\n",
      "Recall    : 0.70373\n",
      "Precision : 0.69043\n",
      "F1 score  : 0.69702\n",
      "Log_loss  : 0.57197\n",
      "AUC score : 0.75104\n"
     ]
    }
   ],
   "source": [
    "evalModel(x_train, y_train, knn)"
   ]
  },
  {
   "cell_type": "code",
   "execution_count": 35,
   "metadata": {
    "collapsed": false
   },
   "outputs": [
    {
     "name": "stdout",
     "output_type": "stream",
     "text": [
      "Accuracy  : 0.50076\n",
      "Recall    : 0.52830\n",
      "Precision : 0.49948\n",
      "F1 score  : 0.51348\n",
      "Log_loss  : 1.85361\n",
      "AUC score : 0.50030\n"
     ]
    }
   ],
   "source": [
    "evalModel(x_test, y_test, knn)"
   ]
  },
  {
   "cell_type": "markdown",
   "metadata": {},
   "source": [
    "* Cross Validation"
   ]
  },
  {
   "cell_type": "code",
   "execution_count": 36,
   "metadata": {
    "collapsed": false
   },
   "outputs": [
    {
     "name": "stdout",
     "output_type": "stream",
     "text": [
      "Accuracy: 0.4983 (+/- 0.0092)\n"
     ]
    }
   ],
   "source": [
    "scoreKNN = cross_val_score(knn, x_train, y_train, cv = 7)\n",
    "print \"Accuracy: %0.4f (+/- %0.4f)\" % (scoreKNN.mean(), scoreKNN.std())"
   ]
  },
  {
   "cell_type": "markdown",
   "metadata": {},
   "source": [
    "* Randomized Search"
   ]
  },
  {
   "cell_type": "code",
   "execution_count": 37,
   "metadata": {
    "collapsed": true
   },
   "outputs": [],
   "source": [
    "param = {'n_neighbors': [2, 3, 5, 8, 13, 20, 30, 50]}"
   ]
  },
  {
   "cell_type": "code",
   "execution_count": 38,
   "metadata": {
    "collapsed": false
   },
   "outputs": [
    {
     "name": "stdout",
     "output_type": "stream",
     "text": [
      "Fitting 5 folds for each of 5 candidates, totalling 25 fits\n"
     ]
    },
    {
     "name": "stderr",
     "output_type": "stream",
     "text": [
      "[Parallel(n_jobs=-1)]: Done  25 out of  25 | elapsed:   21.9s finished\n"
     ]
    },
    {
     "data": {
      "text/plain": [
       "{'n_neighbors': 50}"
      ]
     },
     "execution_count": 38,
     "metadata": {},
     "output_type": "execute_result"
    }
   ],
   "source": [
    "rsKNN = RandomizedSearchCV(estimator=knn, param_distributions=param, cv=5, \n",
    "                        n_iter=5, n_jobs=-1, verbose=True, scoring=\"accuracy\", random_state = 123)\n",
    "rsKNN.fit(x_train, y_train)\n",
    "rsKNN.best_params_"
   ]
  },
  {
   "cell_type": "code",
   "execution_count": 39,
   "metadata": {
    "collapsed": false
   },
   "outputs": [
    {
     "data": {
      "text/plain": [
       "0.51279922512799225"
      ]
     },
     "execution_count": 39,
     "metadata": {},
     "output_type": "execute_result"
    }
   ],
   "source": [
    "rsKNN.best_score_"
   ]
  },
  {
   "cell_type": "code",
   "execution_count": 40,
   "metadata": {
    "collapsed": false
   },
   "outputs": [
    {
     "name": "stdout",
     "output_type": "stream",
     "text": [
      "Accuracy  : 0.51017\n",
      "Recall    : 0.52192\n",
      "Precision : 0.50865\n",
      "F1 score  : 0.51520\n",
      "Log_loss  : 0.70358\n",
      "AUC score : 0.50451\n"
     ]
    }
   ],
   "source": [
    "evalModel(x_test, y_test, rsKNN)"
   ]
  },
  {
   "cell_type": "markdown",
   "metadata": {},
   "source": [
    "* Grid Search"
   ]
  },
  {
   "cell_type": "code",
   "execution_count": 41,
   "metadata": {
    "collapsed": false
   },
   "outputs": [
    {
     "name": "stdout",
     "output_type": "stream",
     "text": [
      "Fitting 5 folds for each of 8 candidates, totalling 40 fits\n"
     ]
    },
    {
     "name": "stderr",
     "output_type": "stream",
     "text": [
      "[Parallel(n_jobs=-1)]: Done  40 out of  40 | elapsed:   28.3s finished\n"
     ]
    },
    {
     "data": {
      "text/plain": [
       "{'n_neighbors': 50}"
      ]
     },
     "execution_count": 41,
     "metadata": {},
     "output_type": "execute_result"
    }
   ],
   "source": [
    "gsKNN = GridSearchCV(estimator=knn, param_grid=param, cv=5, \n",
    "                        n_jobs=-1, verbose=True, scoring=\"accuracy\")\n",
    "gsKNN.fit(x_train, y_train)\n",
    "gsKNN.best_params_"
   ]
  },
  {
   "cell_type": "code",
   "execution_count": 42,
   "metadata": {
    "collapsed": false
   },
   "outputs": [
    {
     "data": {
      "text/plain": [
       "0.51279922512799225"
      ]
     },
     "execution_count": 42,
     "metadata": {},
     "output_type": "execute_result"
    }
   ],
   "source": [
    "gsKNN.best_score_"
   ]
  },
  {
   "cell_type": "markdown",
   "metadata": {},
   "source": [
    "* Fit the Best Model"
   ]
  },
  {
   "cell_type": "code",
   "execution_count": 118,
   "metadata": {
    "collapsed": false
   },
   "outputs": [
    {
     "data": {
      "text/plain": [
       "KNeighborsClassifier(algorithm='auto', leaf_size=30, metric='minkowski',\n",
       "           metric_params=None, n_jobs=-1, n_neighbors=50, p=2,\n",
       "           weights='uniform')"
      ]
     },
     "execution_count": 118,
     "metadata": {},
     "output_type": "execute_result"
    }
   ],
   "source": [
    "knnBest = KNeighborsClassifier(n_neighbors=50, n_jobs=-1)\n",
    "knnBest.fit(x_train, y_train)"
   ]
  },
  {
   "cell_type": "code",
   "execution_count": 119,
   "metadata": {
    "collapsed": false
   },
   "outputs": [
    {
     "name": "stdout",
     "output_type": "stream",
     "text": [
      "Accuracy  : 0.56005\n",
      "Recall    : 0.57711\n",
      "Precision : 0.56424\n",
      "F1 score  : 0.57060\n",
      "Log_loss  : 0.68143\n",
      "AUC score : 0.58597\n"
     ]
    }
   ],
   "source": [
    "evalModel(x_train, y_train, knnBest)"
   ]
  },
  {
   "cell_type": "code",
   "execution_count": 120,
   "metadata": {
    "collapsed": false
   },
   "outputs": [
    {
     "name": "stdout",
     "output_type": "stream",
     "text": [
      "Accuracy  : 0.51017\n",
      "Recall    : 0.52192\n",
      "Precision : 0.50865\n",
      "F1 score  : 0.51520\n",
      "Log_loss  : 0.70358\n",
      "AUC score : 0.50451\n"
     ]
    }
   ],
   "source": [
    "evalModel(x_test, y_test, knnBest)"
   ]
  },
  {
   "cell_type": "markdown",
   "metadata": {},
   "source": [
    "* Save Model"
   ]
  },
  {
   "cell_type": "code",
   "execution_count": 121,
   "metadata": {
    "collapsed": false
   },
   "outputs": [
    {
     "data": {
      "text/plain": [
       "['knn.pkl']"
      ]
     },
     "execution_count": 121,
     "metadata": {},
     "output_type": "execute_result"
    }
   ],
   "source": [
    "joblib.dump(knnBest, \"knn.pkl\")"
   ]
  },
  {
   "cell_type": "code",
   "execution_count": null,
   "metadata": {
    "collapsed": true
   },
   "outputs": [],
   "source": []
  },
  {
   "cell_type": "markdown",
   "metadata": {},
   "source": [
    "## SVM\n",
    "\n",
    "* Linear SVM"
   ]
  },
  {
   "cell_type": "code",
   "execution_count": 45,
   "metadata": {
    "collapsed": false
   },
   "outputs": [
    {
     "data": {
      "text/plain": [
       "SVC(C=1.0, cache_size=200, class_weight=None, coef0=0.0,\n",
       "  decision_function_shape=None, degree=3, gamma='auto', kernel='linear',\n",
       "  max_iter=-1, probability=True, random_state=123, shrinking=True,\n",
       "  tol=0.001, verbose=False)"
      ]
     },
     "execution_count": 45,
     "metadata": {},
     "output_type": "execute_result"
    }
   ],
   "source": [
    "linSVC = SVC(kernel = 'linear', random_state=123, probability=True)\n",
    "linSVC.fit(x_train, y_train)"
   ]
  },
  {
   "cell_type": "code",
   "execution_count": 46,
   "metadata": {
    "collapsed": false
   },
   "outputs": [
    {
     "name": "stdout",
     "output_type": "stream",
     "text": [
      "Accuracy  : 0.52504\n",
      "Recall    : 0.61617\n",
      "Precision : 0.52662\n",
      "F1 score  : 0.56789\n",
      "Log_loss  : 0.69409\n",
      "AUC score : 0.46859\n"
     ]
    }
   ],
   "source": [
    "evalModel(x_train, y_train, linSVC)"
   ]
  },
  {
   "cell_type": "code",
   "execution_count": 47,
   "metadata": {
    "collapsed": false
   },
   "outputs": [
    {
     "name": "stdout",
     "output_type": "stream",
     "text": [
      "Accuracy  : 0.51308\n",
      "Recall    : 0.59795\n",
      "Precision : 0.51006\n",
      "F1 score  : 0.55052\n",
      "Log_loss  : 0.69391\n",
      "AUC score : 0.48424\n"
     ]
    }
   ],
   "source": [
    "evalModel(x_test, y_test, linSVC)"
   ]
  },
  {
   "cell_type": "markdown",
   "metadata": {},
   "source": [
    "* RBF Kernel SVM"
   ]
  },
  {
   "cell_type": "code",
   "execution_count": 48,
   "metadata": {
    "collapsed": false
   },
   "outputs": [
    {
     "data": {
      "text/plain": [
       "SVC(C=1.0, cache_size=200, class_weight=None, coef0=0.0,\n",
       "  decision_function_shape=None, degree=3, gamma='auto', kernel='rbf',\n",
       "  max_iter=-1, probability=True, random_state=123, shrinking=True,\n",
       "  tol=0.001, verbose=False)"
      ]
     },
     "execution_count": 48,
     "metadata": {},
     "output_type": "execute_result"
    }
   ],
   "source": [
    "svClass = SVC(kernel = 'rbf', random_state=123, probability=True)\n",
    "svClass.fit(x_train, y_train)"
   ]
  },
  {
   "cell_type": "code",
   "execution_count": 49,
   "metadata": {
    "collapsed": false
   },
   "outputs": [
    {
     "name": "stdout",
     "output_type": "stream",
     "text": [
      "Accuracy  : 0.50650\n",
      "Recall    : 1.00000\n",
      "Precision : 0.50650\n",
      "F1 score  : 0.67242\n",
      "Log_loss  : 0.69379\n",
      "AUC score : 0.47145\n"
     ]
    }
   ],
   "source": [
    "evalModel(x_train, y_train, svClass)"
   ]
  },
  {
   "cell_type": "code",
   "execution_count": 50,
   "metadata": {
    "collapsed": false
   },
   "outputs": [
    {
     "name": "stdout",
     "output_type": "stream",
     "text": [
      "Accuracy  : 0.49869\n",
      "Recall    : 1.00000\n",
      "Precision : 0.49869\n",
      "F1 score  : 0.66550\n",
      "Log_loss  : 0.69342\n",
      "AUC score : 0.48776\n"
     ]
    }
   ],
   "source": [
    "evalModel(x_test, y_test, svClass)"
   ]
  },
  {
   "cell_type": "code",
   "execution_count": 51,
   "metadata": {
    "collapsed": false
   },
   "outputs": [
    {
     "name": "stdout",
     "output_type": "stream",
     "text": [
      "Accuracy: 0.5066 (+/- 0.0002)\n"
     ]
    }
   ],
   "source": [
    "scoreSVM = cross_val_score(svClass, x_train, y_train, cv = 7)\n",
    "print \"Accuracy: %0.4f (+/- %0.4f)\" % (scoreSVM.mean(), scoreSVM.std())"
   ]
  },
  {
   "cell_type": "markdown",
   "metadata": {},
   "source": [
    "* Randomized Search"
   ]
  },
  {
   "cell_type": "code",
   "execution_count": 52,
   "metadata": {
    "collapsed": true
   },
   "outputs": [],
   "source": [
    "param = {'C': [0.01, 0.033, 0.1, 0.33, 1, 3, 10, 33, 100, 333],\n",
    "        'gamma': [0.001, 0.005, 0.01, 0.05, 0.1, 0.5, 1, 5, 10]}"
   ]
  },
  {
   "cell_type": "code",
   "execution_count": 53,
   "metadata": {
    "collapsed": false
   },
   "outputs": [
    {
     "name": "stdout",
     "output_type": "stream",
     "text": [
      "Fitting 5 folds for each of 10 candidates, totalling 50 fits\n"
     ]
    },
    {
     "name": "stderr",
     "output_type": "stream",
     "text": [
      "[Parallel(n_jobs=-1)]: Done  34 tasks      | elapsed: 17.8min\n",
      "[Parallel(n_jobs=-1)]: Done  50 out of  50 | elapsed: 22.9min finished\n"
     ]
    },
    {
     "data": {
      "text/plain": [
       "{'C': 100, 'gamma': 0.1}"
      ]
     },
     "execution_count": 53,
     "metadata": {},
     "output_type": "execute_result"
    }
   ],
   "source": [
    "rsSVM = RandomizedSearchCV(estimator=svClass, param_distributions=param, cv=5, \n",
    "                        n_iter=10, n_jobs=-1, verbose=True, scoring=\"accuracy\", random_state = 123)\n",
    "rsSVM.fit(x_train, y_train)\n",
    "rsSVM.best_params_"
   ]
  },
  {
   "cell_type": "code",
   "execution_count": 54,
   "metadata": {
    "collapsed": false
   },
   "outputs": [
    {
     "name": "stdout",
     "output_type": "stream",
     "text": [
      "Accuracy  : 0.51335\n",
      "Recall    : 0.76665\n",
      "Precision : 0.50800\n",
      "F1 score  : 0.61108\n",
      "Log_loss  : 0.69309\n",
      "AUC score : 0.51986\n"
     ]
    }
   ],
   "source": [
    "evalModel(x_test, y_test, rsSVM)"
   ]
  },
  {
   "cell_type": "markdown",
   "metadata": {},
   "source": [
    "* Fit the Best Model"
   ]
  },
  {
   "cell_type": "code",
   "execution_count": 60,
   "metadata": {
    "collapsed": false
   },
   "outputs": [
    {
     "data": {
      "text/plain": [
       "SVC(C=100, cache_size=200, class_weight=None, coef0=0.0,\n",
       "  decision_function_shape=None, degree=3, gamma=0.1, kernel='rbf',\n",
       "  max_iter=-1, probability=True, random_state=123, shrinking=True,\n",
       "  tol=0.001, verbose=False)"
      ]
     },
     "execution_count": 60,
     "metadata": {},
     "output_type": "execute_result"
    }
   ],
   "source": [
    "SVMBest = SVC(kernel = 'rbf', random_state=123, probability=True, C = 100, gamma = 0.1)\n",
    "SVMBest.fit(x_train, y_train)"
   ]
  },
  {
   "cell_type": "markdown",
   "metadata": {},
   "source": [
    "* Save Model"
   ]
  },
  {
   "cell_type": "code",
   "execution_count": 61,
   "metadata": {
    "collapsed": false
   },
   "outputs": [
    {
     "data": {
      "text/plain": [
       "['SVM.pkl']"
      ]
     },
     "execution_count": 61,
     "metadata": {},
     "output_type": "execute_result"
    }
   ],
   "source": [
    "joblib.dump(SVMBest, 'SVM.pkl')"
   ]
  },
  {
   "cell_type": "code",
   "execution_count": null,
   "metadata": {
    "collapsed": true
   },
   "outputs": [],
   "source": []
  },
  {
   "cell_type": "markdown",
   "metadata": {},
   "source": [
    "## Decision Tree"
   ]
  },
  {
   "cell_type": "code",
   "execution_count": 62,
   "metadata": {
    "collapsed": false
   },
   "outputs": [
    {
     "data": {
      "text/plain": [
       "DecisionTreeClassifier(class_weight=None, criterion='gini', max_depth=None,\n",
       "            max_features=None, max_leaf_nodes=None,\n",
       "            min_impurity_split=1e-07, min_samples_leaf=1,\n",
       "            min_samples_split=2, min_weight_fraction_leaf=0.0,\n",
       "            presort=False, random_state=123, splitter='best')"
      ]
     },
     "execution_count": 62,
     "metadata": {},
     "output_type": "execute_result"
    }
   ],
   "source": [
    "decTree = DecisionTreeClassifier(random_state=123)\n",
    "decTree.fit(x_train, y_train)"
   ]
  },
  {
   "cell_type": "code",
   "execution_count": 63,
   "metadata": {
    "collapsed": false
   },
   "outputs": [
    {
     "name": "stdout",
     "output_type": "stream",
     "text": [
      "Accuracy  : 1.00000\n",
      "Recall    : 1.00000\n",
      "Precision : 1.00000\n",
      "F1 score  : 1.00000\n",
      "Log_loss  : 0.00000\n",
      "AUC score : 1.00000\n"
     ]
    }
   ],
   "source": [
    "evalModel(x_train, y_train, decTree)"
   ]
  },
  {
   "cell_type": "code",
   "execution_count": 64,
   "metadata": {
    "collapsed": false
   },
   "outputs": [
    {
     "name": "stdout",
     "output_type": "stream",
     "text": [
      "Accuracy  : 0.50505\n",
      "Recall    : 0.51471\n",
      "Precision : 0.50367\n",
      "F1 score  : 0.50913\n",
      "Log_loss  : 17.09495\n",
      "AUC score : 0.50508\n"
     ]
    }
   ],
   "source": [
    "evalModel(x_test, y_test, decTree)"
   ]
  },
  {
   "cell_type": "markdown",
   "metadata": {},
   "source": [
    "* Cross Validation"
   ]
  },
  {
   "cell_type": "code",
   "execution_count": 65,
   "metadata": {
    "collapsed": false
   },
   "outputs": [
    {
     "name": "stdout",
     "output_type": "stream",
     "text": [
      "Accuracy: 0.5033 (+/- 0.0123)\n"
     ]
    }
   ],
   "source": [
    "score = cross_val_score(decTree, x_train, y_train, cv = 7, n_jobs=-1)\n",
    "print \"Accuracy: %0.4f (+/- %0.4f)\" % (score.mean(), score.std())"
   ]
  },
  {
   "cell_type": "markdown",
   "metadata": {},
   "source": [
    "* Randomized Search"
   ]
  },
  {
   "cell_type": "code",
   "execution_count": 66,
   "metadata": {
    "collapsed": true
   },
   "outputs": [],
   "source": [
    "param = {'max_depth': [1, 3, 5, 7, 10, 15, 20, 30, 50, 100],\n",
    "         'criterion': ['gini', 'entropy']}"
   ]
  },
  {
   "cell_type": "code",
   "execution_count": 67,
   "metadata": {
    "collapsed": false
   },
   "outputs": [
    {
     "name": "stdout",
     "output_type": "stream",
     "text": [
      "Fitting 5 folds for each of 5 candidates, totalling 25 fits\n"
     ]
    },
    {
     "name": "stderr",
     "output_type": "stream",
     "text": [
      "[Parallel(n_jobs=-1)]: Done  25 out of  25 | elapsed:   14.5s finished\n"
     ]
    },
    {
     "data": {
      "text/plain": [
       "{'criterion': 'gini', 'max_depth': 15}"
      ]
     },
     "execution_count": 67,
     "metadata": {},
     "output_type": "execute_result"
    }
   ],
   "source": [
    "rsDecTree = RandomizedSearchCV(estimator=decTree, param_distributions=param, cv=5, \n",
    "                        n_iter=5, n_jobs=-1, verbose=True, scoring=\"accuracy\", random_state = 123)\n",
    "rsDecTree.fit(x_train, y_train)\n",
    "rsDecTree.best_params_"
   ]
  },
  {
   "cell_type": "code",
   "execution_count": 68,
   "metadata": {
    "collapsed": false
   },
   "outputs": [
    {
     "data": {
      "text/plain": [
       "0.51266085512660853"
      ]
     },
     "execution_count": 68,
     "metadata": {},
     "output_type": "execute_result"
    }
   ],
   "source": [
    "rsDecTree.best_score_"
   ]
  },
  {
   "cell_type": "code",
   "execution_count": 69,
   "metadata": {
    "collapsed": false
   },
   "outputs": [
    {
     "name": "stdout",
     "output_type": "stream",
     "text": [
      "Accuracy  : 0.65221\n",
      "Recall    : 0.81737\n",
      "Precision : 0.61857\n",
      "F1 score  : 0.70421\n",
      "Log_loss  : 0.53574\n",
      "AUC score : 0.74724\n"
     ]
    }
   ],
   "source": [
    "evalModel(x_train, y_train, rsDecTree)"
   ]
  },
  {
   "cell_type": "markdown",
   "metadata": {},
   "source": [
    "* Grid Search"
   ]
  },
  {
   "cell_type": "code",
   "execution_count": 70,
   "metadata": {
    "collapsed": false
   },
   "outputs": [
    {
     "name": "stdout",
     "output_type": "stream",
     "text": [
      "Fitting 5 folds for each of 20 candidates, totalling 100 fits\n"
     ]
    },
    {
     "name": "stderr",
     "output_type": "stream",
     "text": [
      "[Parallel(n_jobs=-1)]: Done  34 tasks      | elapsed:   14.7s\n",
      "[Parallel(n_jobs=-1)]: Done 100 out of 100 | elapsed:   22.6s finished\n"
     ]
    },
    {
     "data": {
      "text/plain": [
       "{'criterion': 'entropy', 'max_depth': 100}"
      ]
     },
     "execution_count": 70,
     "metadata": {},
     "output_type": "execute_result"
    }
   ],
   "source": [
    "gsDecTree = GridSearchCV(estimator=decTree, param_grid=param, cv=5, \n",
    "                        n_jobs=-1, verbose=True, scoring=\"accuracy\")\n",
    "gsDecTree.fit(x_train, y_train)\n",
    "gsDecTree.best_params_"
   ]
  },
  {
   "cell_type": "code",
   "execution_count": 71,
   "metadata": {
    "collapsed": false
   },
   "outputs": [
    {
     "data": {
      "text/plain": [
       "0.51411374014113742"
      ]
     },
     "execution_count": 71,
     "metadata": {},
     "output_type": "execute_result"
    }
   ],
   "source": [
    "gsDecTree.best_score_"
   ]
  },
  {
   "cell_type": "code",
   "execution_count": 72,
   "metadata": {
    "collapsed": false
   },
   "outputs": [
    {
     "name": "stdout",
     "output_type": "stream",
     "text": [
      "Accuracy  : 1.00000\n",
      "Recall    : 1.00000\n",
      "Precision : 1.00000\n",
      "F1 score  : 1.00000\n",
      "Log_loss  : 0.00000\n",
      "AUC score : 1.00000\n"
     ]
    }
   ],
   "source": [
    "evalModel(x_train, y_train, gsDecTree)"
   ]
  },
  {
   "cell_type": "markdown",
   "metadata": {},
   "source": [
    "* Fit the Best Model"
   ]
  },
  {
   "cell_type": "code",
   "execution_count": 73,
   "metadata": {
    "collapsed": false
   },
   "outputs": [
    {
     "data": {
      "text/plain": [
       "DecisionTreeClassifier(class_weight=None, criterion='entropy', max_depth=100,\n",
       "            max_features=None, max_leaf_nodes=None,\n",
       "            min_impurity_split=1e-07, min_samples_leaf=1,\n",
       "            min_samples_split=2, min_weight_fraction_leaf=0.0,\n",
       "            presort=False, random_state=123, splitter='best')"
      ]
     },
     "execution_count": 73,
     "metadata": {},
     "output_type": "execute_result"
    }
   ],
   "source": [
    "decTreeBest = DecisionTreeClassifier(max_depth = 100, criterion='entropy', random_state = 123)\n",
    "decTreeBest.fit(x_train, y_train)"
   ]
  },
  {
   "cell_type": "markdown",
   "metadata": {},
   "source": [
    "* Save Model"
   ]
  },
  {
   "cell_type": "code",
   "execution_count": 74,
   "metadata": {
    "collapsed": false
   },
   "outputs": [
    {
     "data": {
      "text/plain": [
       "['decTree.pkl']"
      ]
     },
     "execution_count": 74,
     "metadata": {},
     "output_type": "execute_result"
    }
   ],
   "source": [
    "joblib.dump(decTreeBest, \"decTree.pkl\")"
   ]
  },
  {
   "cell_type": "code",
   "execution_count": null,
   "metadata": {
    "collapsed": true
   },
   "outputs": [],
   "source": []
  },
  {
   "cell_type": "markdown",
   "metadata": {},
   "source": [
    "## Bagging Classifier"
   ]
  },
  {
   "cell_type": "code",
   "execution_count": 75,
   "metadata": {
    "collapsed": false
   },
   "outputs": [
    {
     "data": {
      "text/plain": [
       "BaggingClassifier(base_estimator=DecisionTreeClassifier(class_weight=None, criterion='entropy', max_depth=100,\n",
       "            max_features=None, max_leaf_nodes=None,\n",
       "            min_impurity_split=1e-07, min_samples_leaf=1,\n",
       "            min_samples_split=2, min_weight_fraction_leaf=0.0,\n",
       "            presort=False, random_state=123, splitter='best'),\n",
       "         bootstrap=True, bootstrap_features=False, max_features=1.0,\n",
       "         max_samples=1.0, n_estimators=1000, n_jobs=-1, oob_score=False,\n",
       "         random_state=123, verbose=0, warm_start=False)"
      ]
     },
     "execution_count": 75,
     "metadata": {},
     "output_type": "execute_result"
    }
   ],
   "source": [
    "bagTree = BaggingClassifier(base_estimator=decTreeBest, n_estimators=1000, \n",
    "                            n_jobs=-1, random_state = 123)\n",
    "bagTree.fit(x_train, y_train)"
   ]
  },
  {
   "cell_type": "code",
   "execution_count": 76,
   "metadata": {
    "collapsed": false
   },
   "outputs": [
    {
     "name": "stdout",
     "output_type": "stream",
     "text": [
      "Accuracy  : 1.00000\n",
      "Recall    : 1.00000\n",
      "Precision : 1.00000\n",
      "F1 score  : 1.00000\n",
      "Log_loss  : 0.20356\n",
      "AUC score : 1.00000\n"
     ]
    }
   ],
   "source": [
    "evalModel(x_train, y_train, bagTree)"
   ]
  },
  {
   "cell_type": "code",
   "execution_count": 77,
   "metadata": {
    "collapsed": false
   },
   "outputs": [
    {
     "name": "stdout",
     "output_type": "stream",
     "text": [
      "Accuracy  : 0.49329\n",
      "Recall    : 0.52192\n",
      "Precision : 0.49241\n",
      "F1 score  : 0.50673\n",
      "Log_loss  : 0.71839\n",
      "AUC score : 0.50017\n"
     ]
    }
   ],
   "source": [
    "evalModel(x_test, y_test, bagTree)"
   ]
  },
  {
   "cell_type": "markdown",
   "metadata": {},
   "source": [
    "* Cross Validation"
   ]
  },
  {
   "cell_type": "code",
   "execution_count": 78,
   "metadata": {
    "collapsed": false
   },
   "outputs": [
    {
     "name": "stdout",
     "output_type": "stream",
     "text": [
      "Accuracy: 0.5042 (+/- 0.0058)\n"
     ]
    }
   ],
   "source": [
    "scoreBag = cross_val_score(bagTree, x_train, y_train, cv = 7, n_jobs=-1)\n",
    "print \"Accuracy: %0.4f (+/- %0.4f)\" % (scoreBag.mean(), scoreBag.std())"
   ]
  },
  {
   "cell_type": "markdown",
   "metadata": {},
   "source": [
    "* Save Model"
   ]
  },
  {
   "cell_type": "code",
   "execution_count": 79,
   "metadata": {
    "collapsed": false
   },
   "outputs": [
    {
     "data": {
      "text/plain": [
       "['bagTree.pkl']"
      ]
     },
     "execution_count": 79,
     "metadata": {},
     "output_type": "execute_result"
    }
   ],
   "source": [
    "joblib.dump(bagTree, 'bagTree.pkl')"
   ]
  },
  {
   "cell_type": "code",
   "execution_count": null,
   "metadata": {
    "collapsed": true
   },
   "outputs": [],
   "source": []
  },
  {
   "cell_type": "markdown",
   "metadata": {},
   "source": [
    "## Random Forest Classifier"
   ]
  },
  {
   "cell_type": "code",
   "execution_count": 80,
   "metadata": {
    "collapsed": false
   },
   "outputs": [
    {
     "data": {
      "text/plain": [
       "RandomForestClassifier(bootstrap=True, class_weight=None, criterion='gini',\n",
       "            max_depth=None, max_features='log2', max_leaf_nodes=None,\n",
       "            min_impurity_split=1e-07, min_samples_leaf=1,\n",
       "            min_samples_split=2, min_weight_fraction_leaf=0.0,\n",
       "            n_estimators=1000, n_jobs=-1, oob_score=False,\n",
       "            random_state=123, verbose=0, warm_start=False)"
      ]
     },
     "execution_count": 80,
     "metadata": {},
     "output_type": "execute_result"
    }
   ],
   "source": [
    "ranFor = RandomForestClassifier(n_estimators=1000, random_state=123, n_jobs = -1, max_features='log2')\n",
    "ranFor.fit(x_train, y_train)"
   ]
  },
  {
   "cell_type": "code",
   "execution_count": 81,
   "metadata": {
    "collapsed": false
   },
   "outputs": [
    {
     "name": "stdout",
     "output_type": "stream",
     "text": [
      "Accuracy  : 1.00000\n",
      "Recall    : 1.00000\n",
      "Precision : 1.00000\n",
      "F1 score  : 1.00000\n",
      "Log_loss  : 0.20367\n",
      "AUC score : 1.00000\n"
     ]
    }
   ],
   "source": [
    "evalModel(x_train, y_train, ranFor)"
   ]
  },
  {
   "cell_type": "code",
   "execution_count": 82,
   "metadata": {
    "collapsed": false
   },
   "outputs": [
    {
     "name": "stdout",
     "output_type": "stream",
     "text": [
      "Accuracy  : 0.49938\n",
      "Recall    : 0.51859\n",
      "Precision : 0.49813\n",
      "F1 score  : 0.50816\n",
      "Log_loss  : 0.71754\n",
      "AUC score : 0.50349\n"
     ]
    }
   ],
   "source": [
    "evalModel(x_test, y_test, ranFor)"
   ]
  },
  {
   "cell_type": "markdown",
   "metadata": {},
   "source": [
    "* Cross Validation"
   ]
  },
  {
   "cell_type": "code",
   "execution_count": 83,
   "metadata": {
    "collapsed": false
   },
   "outputs": [
    {
     "name": "stdout",
     "output_type": "stream",
     "text": [
      "Accuracy: 0.5039 (+/- 0.0051)\n"
     ]
    }
   ],
   "source": [
    "scoreRF = cross_val_score(ranFor, x_train, y_train, cv = 7, n_jobs=-1, scoring=\"accuracy\")\n",
    "print \"Accuracy: %0.4f (+/- %0.4f)\" % (scoreRF.mean(), scoreRF.std())"
   ]
  },
  {
   "cell_type": "markdown",
   "metadata": {},
   "source": [
    "* Randomized Search"
   ]
  },
  {
   "cell_type": "code",
   "execution_count": 84,
   "metadata": {
    "collapsed": true
   },
   "outputs": [],
   "source": [
    "param = {'max_depth': [1, 3, 5, 8, 13, 20, 30, 50, 100],\n",
    "         'max_features': ['sqrt', 'log2']}"
   ]
  },
  {
   "cell_type": "code",
   "execution_count": 85,
   "metadata": {
    "collapsed": false
   },
   "outputs": [
    {
     "name": "stdout",
     "output_type": "stream",
     "text": [
      "Fitting 5 folds for each of 5 candidates, totalling 25 fits\n"
     ]
    },
    {
     "name": "stderr",
     "output_type": "stream",
     "text": [
      "[Parallel(n_jobs=-1)]: Done  25 out of  25 | elapsed:  6.3min finished\n"
     ]
    },
    {
     "data": {
      "text/plain": [
       "{'max_depth': 3, 'max_features': 'log2'}"
      ]
     },
     "execution_count": 85,
     "metadata": {},
     "output_type": "execute_result"
    }
   ],
   "source": [
    "rsRF = RandomizedSearchCV(estimator=ranFor, param_distributions=param, cv=5, \n",
    "                        n_iter=5, n_jobs=-1, verbose=True, scoring=\"accuracy\")\n",
    "rsRF.fit(x_train, y_train)\n",
    "rsRF.best_params_"
   ]
  },
  {
   "cell_type": "code",
   "execution_count": 86,
   "metadata": {
    "collapsed": false
   },
   "outputs": [
    {
     "data": {
      "text/plain": [
       "0.51944098519440984"
      ]
     },
     "execution_count": 86,
     "metadata": {},
     "output_type": "execute_result"
    }
   ],
   "source": [
    "rsRF.best_score_"
   ]
  },
  {
   "cell_type": "markdown",
   "metadata": {},
   "source": [
    "* Grid Search"
   ]
  },
  {
   "cell_type": "code",
   "execution_count": 87,
   "metadata": {
    "collapsed": false
   },
   "outputs": [
    {
     "name": "stdout",
     "output_type": "stream",
     "text": [
      "Fitting 5 folds for each of 18 candidates, totalling 90 fits\n"
     ]
    },
    {
     "name": "stderr",
     "output_type": "stream",
     "text": [
      "[Parallel(n_jobs=-1)]: Done  34 tasks      | elapsed:  2.8min\n",
      "[Parallel(n_jobs=-1)]: Done  90 out of  90 | elapsed: 12.2min finished\n"
     ]
    },
    {
     "data": {
      "text/plain": [
       "{'max_depth': 5, 'max_features': 'sqrt'}"
      ]
     },
     "execution_count": 87,
     "metadata": {},
     "output_type": "execute_result"
    }
   ],
   "source": [
    "gsRF = GridSearchCV(estimator=ranFor, param_grid=param, cv=5, \n",
    "                  n_jobs=-1, verbose=True, scoring=\"accuracy\")\n",
    "gsRF.fit(x_train, y_train)\n",
    "gsRF.best_params_"
   ]
  },
  {
   "cell_type": "code",
   "execution_count": 88,
   "metadata": {
    "collapsed": false
   },
   "outputs": [
    {
     "data": {
      "text/plain": [
       "0.51978691019786916"
      ]
     },
     "execution_count": 88,
     "metadata": {},
     "output_type": "execute_result"
    }
   ],
   "source": [
    "gsRF.best_score_"
   ]
  },
  {
   "cell_type": "code",
   "execution_count": 89,
   "metadata": {
    "collapsed": false
   },
   "outputs": [
    {
     "data": {
      "text/plain": [
       "RandomForestClassifier(bootstrap=True, class_weight=None, criterion='gini',\n",
       "            max_depth=30, max_features='sqrt', max_leaf_nodes=None,\n",
       "            min_impurity_split=1e-07, min_samples_leaf=1,\n",
       "            min_samples_split=2, min_weight_fraction_leaf=0.0,\n",
       "            n_estimators=1000, n_jobs=-1, oob_score=False,\n",
       "            random_state=123, verbose=0, warm_start=False)"
      ]
     },
     "execution_count": 89,
     "metadata": {},
     "output_type": "execute_result"
    }
   ],
   "source": [
    "ranForestBest = RandomForestClassifier(n_estimators=1000, random_state=123, n_jobs = -1, \n",
    "                                       max_features='sqrt', max_depth = 30)\n",
    "ranForestBest.fit(x_train, y_train)"
   ]
  },
  {
   "cell_type": "markdown",
   "metadata": {},
   "source": [
    "* Save Model"
   ]
  },
  {
   "cell_type": "code",
   "execution_count": 90,
   "metadata": {
    "collapsed": false
   },
   "outputs": [
    {
     "data": {
      "text/plain": [
       "['ranforest.pkl']"
      ]
     },
     "execution_count": 90,
     "metadata": {},
     "output_type": "execute_result"
    }
   ],
   "source": [
    "joblib.dump(ranForestBest, 'ranforest.pkl')"
   ]
  },
  {
   "cell_type": "code",
   "execution_count": null,
   "metadata": {
    "collapsed": true
   },
   "outputs": [],
   "source": []
  },
  {
   "cell_type": "markdown",
   "metadata": {},
   "source": [
    "## Adaboost"
   ]
  },
  {
   "cell_type": "code",
   "execution_count": 91,
   "metadata": {
    "collapsed": false
   },
   "outputs": [
    {
     "data": {
      "text/plain": [
       "AdaBoostClassifier(algorithm='SAMME.R',\n",
       "          base_estimator=DecisionTreeClassifier(class_weight=None, criterion='entropy', max_depth=100,\n",
       "            max_features=None, max_leaf_nodes=None,\n",
       "            min_impurity_split=1e-07, min_samples_leaf=1,\n",
       "            min_samples_split=2, min_weight_fraction_leaf=0.0,\n",
       "            presort=False, random_state=123, splitter='best'),\n",
       "          learning_rate=0.1, n_estimators=1000, random_state=123)"
      ]
     },
     "execution_count": 91,
     "metadata": {},
     "output_type": "execute_result"
    }
   ],
   "source": [
    "adaboost = AdaBoostClassifier(base_estimator=decTreeBest, n_estimators=1000, \n",
    "                              learning_rate = 0.1, random_state = 123)\n",
    "adaboost.fit(x_train, y_train)"
   ]
  },
  {
   "cell_type": "code",
   "execution_count": 92,
   "metadata": {
    "collapsed": false
   },
   "outputs": [
    {
     "name": "stdout",
     "output_type": "stream",
     "text": [
      "Accuracy  : 1.00000\n",
      "Recall    : 1.00000\n",
      "Precision : 1.00000\n",
      "F1 score  : 1.00000\n",
      "Log_loss  : 0.00000\n",
      "AUC score : 1.00000\n"
     ]
    }
   ],
   "source": [
    "evalModel(x_train, y_train, adaboost)"
   ]
  },
  {
   "cell_type": "code",
   "execution_count": 93,
   "metadata": {
    "collapsed": false
   },
   "outputs": [
    {
     "name": "stdout",
     "output_type": "stream",
     "text": [
      "Accuracy  : 0.49426\n",
      "Recall    : 0.50777\n",
      "Precision : 0.49313\n",
      "F1 score  : 0.50034\n",
      "Log_loss  : 17.46772\n",
      "AUC score : 0.49429\n"
     ]
    }
   ],
   "source": [
    "evalModel(x_test, y_test, adaboost)"
   ]
  },
  {
   "cell_type": "markdown",
   "metadata": {},
   "source": [
    "* Grid Search"
   ]
  },
  {
   "cell_type": "code",
   "execution_count": 94,
   "metadata": {
    "collapsed": true
   },
   "outputs": [],
   "source": [
    "param = {'learning_rate': [0.01, 0.033, 0.1, 0.33, 1, 3, 10, 33, 100]}"
   ]
  },
  {
   "cell_type": "code",
   "execution_count": 95,
   "metadata": {
    "collapsed": false
   },
   "outputs": [
    {
     "name": "stdout",
     "output_type": "stream",
     "text": [
      "Fitting 5 folds for each of 9 candidates, totalling 45 fits\n"
     ]
    },
    {
     "name": "stderr",
     "output_type": "stream",
     "text": [
      "[Parallel(n_jobs=-1)]: Done  45 out of  45 | elapsed:   47.8s finished\n"
     ]
    },
    {
     "data": {
      "text/plain": [
       "{'learning_rate': 0.01}"
      ]
     },
     "execution_count": 95,
     "metadata": {},
     "output_type": "execute_result"
    }
   ],
   "source": [
    "gsAdB = GridSearchCV(estimator=adaboost, param_grid=param, cv=5, \n",
    "                  n_jobs=-1, verbose=True, scoring=\"accuracy\")\n",
    "gsAdB.fit(x_train, y_train)\n",
    "gsAdB.best_params_"
   ]
  },
  {
   "cell_type": "markdown",
   "metadata": {},
   "source": [
    "* Fit the best Model"
   ]
  },
  {
   "cell_type": "code",
   "execution_count": 96,
   "metadata": {
    "collapsed": false
   },
   "outputs": [
    {
     "data": {
      "text/plain": [
       "AdaBoostClassifier(algorithm='SAMME.R',\n",
       "          base_estimator=DecisionTreeClassifier(class_weight=None, criterion='entropy', max_depth=100,\n",
       "            max_features=None, max_leaf_nodes=None,\n",
       "            min_impurity_split=1e-07, min_samples_leaf=1,\n",
       "            min_samples_split=2, min_weight_fraction_leaf=0.0,\n",
       "            presort=False, random_state=123, splitter='best'),\n",
       "          learning_rate=0.01, n_estimators=1000, random_state=123)"
      ]
     },
     "execution_count": 96,
     "metadata": {},
     "output_type": "execute_result"
    }
   ],
   "source": [
    "adaboostBest = AdaBoostClassifier(base_estimator=decTreeBest, n_estimators=1000, \n",
    "                              learning_rate = 0.01, random_state = 123)\n",
    "adaboostBest.fit(x_train, y_train)"
   ]
  },
  {
   "cell_type": "markdown",
   "metadata": {},
   "source": [
    "* Save Model"
   ]
  },
  {
   "cell_type": "code",
   "execution_count": 97,
   "metadata": {
    "collapsed": false
   },
   "outputs": [
    {
     "data": {
      "text/plain": [
       "['adaboost.pkl']"
      ]
     },
     "execution_count": 97,
     "metadata": {},
     "output_type": "execute_result"
    }
   ],
   "source": [
    "joblib.dump(adaboostBest, 'adaboost.pkl')"
   ]
  },
  {
   "cell_type": "code",
   "execution_count": null,
   "metadata": {
    "collapsed": true
   },
   "outputs": [],
   "source": []
  },
  {
   "cell_type": "markdown",
   "metadata": {},
   "source": [
    "## Gradient Boosting"
   ]
  },
  {
   "cell_type": "code",
   "execution_count": 98,
   "metadata": {
    "collapsed": false
   },
   "outputs": [
    {
     "data": {
      "text/plain": [
       "GradientBoostingClassifier(criterion='friedman_mse', init=None,\n",
       "              learning_rate=0.1, loss='deviance', max_depth=3,\n",
       "              max_features=None, max_leaf_nodes=None,\n",
       "              min_impurity_split=1e-07, min_samples_leaf=1,\n",
       "              min_samples_split=2, min_weight_fraction_leaf=0.0,\n",
       "              n_estimators=1000, presort='auto', random_state=123,\n",
       "              subsample=1.0, verbose=0, warm_start=False)"
      ]
     },
     "execution_count": 98,
     "metadata": {},
     "output_type": "execute_result"
    }
   ],
   "source": [
    "gradBoost = GradientBoostingClassifier(n_estimators=1000, random_state=123)\n",
    "gradBoost.fit(x_train, y_train)"
   ]
  },
  {
   "cell_type": "code",
   "execution_count": 99,
   "metadata": {
    "collapsed": false
   },
   "outputs": [
    {
     "name": "stdout",
     "output_type": "stream",
     "text": [
      "Accuracy  : 0.83894\n",
      "Recall    : 0.86300\n",
      "Precision : 0.82664\n",
      "F1 score  : 0.84443\n",
      "Log_loss  : 0.52079\n",
      "AUC score : 0.92513\n"
     ]
    }
   ],
   "source": [
    "evalModel(x_train, y_train, gradBoost)"
   ]
  },
  {
   "cell_type": "code",
   "execution_count": 100,
   "metadata": {
    "collapsed": false
   },
   "outputs": [
    {
     "name": "stdout",
     "output_type": "stream",
     "text": [
      "Accuracy  : 0.50131\n",
      "Recall    : 0.53552\n",
      "Precision : 0.50000\n",
      "F1 score  : 0.51715\n",
      "Log_loss  : 0.72358\n",
      "AUC score : 0.50202\n"
     ]
    }
   ],
   "source": [
    "evalModel(x_test, y_test, gradBoost)"
   ]
  },
  {
   "cell_type": "markdown",
   "metadata": {},
   "source": [
    "* Randomized Search"
   ]
  },
  {
   "cell_type": "code",
   "execution_count": 101,
   "metadata": {
    "collapsed": true
   },
   "outputs": [],
   "source": [
    "param = {'max_depth': [1, 3, 5, 8, 13, 20, 30, 50, 100],\n",
    "         'max_features': ['auto', 'sqrt', 'log2'],\n",
    "         'learning_rate': [0.01, 0.015, 0.02, 0.05, 0.08, 0.1] }"
   ]
  },
  {
   "cell_type": "code",
   "execution_count": 102,
   "metadata": {
    "collapsed": false
   },
   "outputs": [
    {
     "name": "stdout",
     "output_type": "stream",
     "text": [
      "Fitting 5 folds for each of 50 candidates, totalling 250 fits\n"
     ]
    },
    {
     "name": "stderr",
     "output_type": "stream",
     "text": [
      "[Parallel(n_jobs=-1)]: Done  34 tasks      | elapsed: 11.9min\n",
      "[Parallel(n_jobs=-1)]: Done 184 tasks      | elapsed: 69.3min\n",
      "[Parallel(n_jobs=-1)]: Done 250 out of 250 | elapsed: 92.5min finished\n"
     ]
    },
    {
     "data": {
      "text/plain": [
       "{'learning_rate': 0.05, 'max_depth': 1, 'max_features': 'sqrt'}"
      ]
     },
     "execution_count": 102,
     "metadata": {},
     "output_type": "execute_result"
    }
   ],
   "source": [
    "rsGradBoost = RandomizedSearchCV(estimator=gradBoost, param_distributions=param, cv=5,\n",
    "                                  n_iter=50, n_jobs=-1, verbose=True, scoring=\"accuracy\",\n",
    "                                  random_state = 123)\n",
    "rsGradBoost.fit(x_train, y_train)\n",
    "rsGradBoost.best_params_"
   ]
  },
  {
   "cell_type": "code",
   "execution_count": 103,
   "metadata": {
    "collapsed": false
   },
   "outputs": [
    {
     "data": {
      "text/plain": [
       "GradientBoostingClassifier(criterion='friedman_mse', init=None,\n",
       "              learning_rate=0.05, loss='deviance', max_depth=1,\n",
       "              max_features='sqrt', max_leaf_nodes=None,\n",
       "              min_impurity_split=1e-07, min_samples_leaf=1,\n",
       "              min_samples_split=2, min_weight_fraction_leaf=0.0,\n",
       "              n_estimators=1000, presort='auto', random_state=123,\n",
       "              subsample=1.0, verbose=0, warm_start=False)"
      ]
     },
     "execution_count": 103,
     "metadata": {},
     "output_type": "execute_result"
    }
   ],
   "source": [
    "gradBoostBest = GradientBoostingClassifier(learning_rate=0.05, max_depth = 1, max_features = 'sqrt',\n",
    "                                          random_state = 123, n_estimators = 1000)\n",
    "gradBoostBest.fit(x_train, y_train)"
   ]
  },
  {
   "cell_type": "code",
   "execution_count": 104,
   "metadata": {
    "collapsed": false
   },
   "outputs": [
    {
     "name": "stdout",
     "output_type": "stream",
     "text": [
      "Accuracy  : 0.51391\n",
      "Recall    : 0.57048\n",
      "Precision : 0.51132\n",
      "F1 score  : 0.53928\n",
      "Log_loss  : 0.69425\n",
      "AUC score : 0.51283\n"
     ]
    }
   ],
   "source": [
    "evalModel(x_test, y_test, gradBoostBest)"
   ]
  },
  {
   "cell_type": "markdown",
   "metadata": {},
   "source": [
    "* Save Model"
   ]
  },
  {
   "cell_type": "code",
   "execution_count": 105,
   "metadata": {
    "collapsed": false
   },
   "outputs": [
    {
     "data": {
      "text/plain": [
       "['gradBoost.pkl']"
      ]
     },
     "execution_count": 105,
     "metadata": {},
     "output_type": "execute_result"
    }
   ],
   "source": [
    "joblib.dump(gradBoostBest, 'gradBoost.pkl')"
   ]
  },
  {
   "cell_type": "markdown",
   "metadata": {},
   "source": [
    "## Stacking Model"
   ]
  },
  {
   "cell_type": "code",
   "execution_count": 106,
   "metadata": {
    "collapsed": true
   },
   "outputs": [],
   "source": [
    "clf = [logregBest, knnBest, bagTree, ranForestBest, adaboostBest, gradBoostBest]\n",
    "logregCVStacking = LogisticRegressionCV(random_state= 123, cv = 5)"
   ]
  },
  {
   "cell_type": "code",
   "execution_count": 114,
   "metadata": {
    "collapsed": false
   },
   "outputs": [],
   "source": [
    "from mlxtend.classifier import StackingClassifier"
   ]
  },
  {
   "cell_type": "code",
   "execution_count": 115,
   "metadata": {
    "collapsed": true
   },
   "outputs": [],
   "source": [
    "sclf = StackingClassifier(classifiers=clf,\n",
    "                          use_probas=True,\n",
    "                          average_probas=False,\n",
    "                          meta_classifier= logregCVStacking)"
   ]
  },
  {
   "cell_type": "code",
   "execution_count": 116,
   "metadata": {
    "collapsed": false
   },
   "outputs": [
    {
     "data": {
      "text/plain": [
       "StackingClassifier(average_probas=False,\n",
       "          classifiers=[LogisticRegression(C=10, class_weight=None, dual=False, fit_intercept=True,\n",
       "          intercept_scaling=1, max_iter=100, multi_class='ovr', n_jobs=1,\n",
       "          penalty='l2', random_state=123, solver='liblinear', tol=0.0001,\n",
       "          verbose=0, warm_start=False), KNeighborsClassifier(al...s=1000, presort='auto', random_state=123,\n",
       "              subsample=1.0, verbose=0, warm_start=False)],\n",
       "          meta_classifier=LogisticRegressionCV(Cs=10, class_weight=None, cv=5, dual=False,\n",
       "           fit_intercept=True, intercept_scaling=1.0, max_iter=100,\n",
       "           multi_class='ovr', n_jobs=1, penalty='l2', random_state=123,\n",
       "           refit=True, scoring=None, solver='lbfgs', tol=0.0001, verbose=0),\n",
       "          use_features_in_secondary=False, use_probas=True, verbose=0)"
      ]
     },
     "execution_count": 116,
     "metadata": {},
     "output_type": "execute_result"
    }
   ],
   "source": [
    "sclf.fit(x_train, y_train)"
   ]
  },
  {
   "cell_type": "code",
   "execution_count": 117,
   "metadata": {
    "collapsed": false
   },
   "outputs": [
    {
     "name": "stdout",
     "output_type": "stream",
     "text": [
      "Accuracy  : 0.49426\n",
      "Recall    : 0.50777\n",
      "Precision : 0.49313\n",
      "F1 score  : 0.50034\n",
      "Log_loss  : 0.70651\n",
      "AUC score : 0.49598\n"
     ]
    }
   ],
   "source": [
    "evalModel(x_test, y_test, sclf)"
   ]
  },
  {
   "cell_type": "code",
   "execution_count": 145,
   "metadata": {
    "collapsed": false
   },
   "outputs": [
    {
     "name": "stdout",
     "output_type": "stream",
     "text": [
      "Accuracy  : 0.51557\n",
      "Recall    : 0.59295\n",
      "Precision : 0.51235\n",
      "F1 score  : 0.54971\n",
      "Log_loss  : 0.69297\n",
      "AUC score : 0.51844\n",
      "None\n",
      "Accuracy  : 0.49564\n",
      "Recall    : 0.38152\n",
      "Precision : 0.49265\n",
      "F1 score  : 0.43002\n",
      "Log_loss  : 0.87187\n",
      "AUC score : 0.50110\n",
      "None\n",
      "Accuracy  : 0.49329\n",
      "Recall    : 0.52192\n",
      "Precision : 0.49241\n",
      "F1 score  : 0.50673\n",
      "Log_loss  : 0.71839\n",
      "AUC score : 0.50017\n",
      "None\n",
      "Accuracy  : 0.49619\n",
      "Recall    : 0.51609\n",
      "Precision : 0.49508\n",
      "F1 score  : 0.50537\n",
      "Log_loss  : 0.71520\n",
      "AUC score : 0.50324\n",
      "None\n",
      "Accuracy  : 0.49426\n",
      "Recall    : 0.50777\n",
      "Precision : 0.49313\n",
      "F1 score  : 0.50034\n",
      "Log_loss  : 17.46772\n",
      "AUC score : 0.49429\n",
      "None\n",
      "Accuracy  : 0.51391\n",
      "Recall    : 0.57048\n",
      "Precision : 0.51132\n",
      "F1 score  : 0.53928\n",
      "Log_loss  : 0.69425\n",
      "AUC score : 0.51283\n",
      "None\n"
     ]
    }
   ],
   "source": [
    "''' overall evaluation model'''\n",
    "for i in clf:\n",
    "    print(evalModel(x_test, y_test, i))"
   ]
  },
  {
   "cell_type": "code",
   "execution_count": 160,
   "metadata": {
    "collapsed": false
   },
   "outputs": [
    {
     "name": "stdout",
     "output_type": "stream",
     "text": [
      "Log_loss  : 0.69297\n",
      "Log_loss  : 0.87187\n",
      "Log_loss  : 0.71839\n",
      "Log_loss  : 0.71520\n",
      "Log_loss  : 17.46772\n",
      "Log_loss  : 0.69425\n"
     ]
    }
   ],
   "source": [
    "j = []\n",
    "for i in clf:\n",
    "    print \"Log_loss  : %.5f\" % log_loss(y_test, i.predict_proba(x_test))\n",
    "    j.append(log_loss(y_test, i.predict_proba(x_test)))"
   ]
  },
  {
   "cell_type": "code",
   "execution_count": 214,
   "metadata": {
    "collapsed": false
   },
   "outputs": [],
   "source": [
    "# model = []\n",
    "model = ['logregBest', 'knnBest', 'bagTree', 'ranForestBest', 'adaboostBest', 'gradBoostBest']\n",
    "model = pd.DataFrame(model)\n",
    "# model['Log_loss'] = j"
   ]
  },
  {
   "cell_type": "code",
   "execution_count": 220,
   "metadata": {
    "collapsed": false
   },
   "outputs": [],
   "source": [
    "model['model'] = model"
   ]
  },
  {
   "cell_type": "code",
   "execution_count": 225,
   "metadata": {
    "collapsed": false
   },
   "outputs": [],
   "source": [
    "# model['Log_loss'] = j\n",
    "model = model[['model','Log_loss']]"
   ]
  },
  {
   "cell_type": "code",
   "execution_count": 227,
   "metadata": {
    "collapsed": false
   },
   "outputs": [
    {
     "data": {
      "text/html": [
       "<div>\n",
       "<table border=\"1\" class=\"dataframe\">\n",
       "  <thead>\n",
       "    <tr style=\"text-align: right;\">\n",
       "      <th></th>\n",
       "      <th>model</th>\n",
       "      <th>Log_loss</th>\n",
       "    </tr>\n",
       "  </thead>\n",
       "  <tbody>\n",
       "    <tr>\n",
       "      <th>0</th>\n",
       "      <td>logregBest</td>\n",
       "      <td>0.692969</td>\n",
       "    </tr>\n",
       "    <tr>\n",
       "      <th>5</th>\n",
       "      <td>gradBoostBest</td>\n",
       "      <td>0.694250</td>\n",
       "    </tr>\n",
       "    <tr>\n",
       "      <th>3</th>\n",
       "      <td>ranForestBest</td>\n",
       "      <td>0.715196</td>\n",
       "    </tr>\n",
       "    <tr>\n",
       "      <th>2</th>\n",
       "      <td>bagTree</td>\n",
       "      <td>0.718393</td>\n",
       "    </tr>\n",
       "    <tr>\n",
       "      <th>1</th>\n",
       "      <td>knnBest</td>\n",
       "      <td>0.871868</td>\n",
       "    </tr>\n",
       "    <tr>\n",
       "      <th>4</th>\n",
       "      <td>adaboostBest</td>\n",
       "      <td>17.467722</td>\n",
       "    </tr>\n",
       "  </tbody>\n",
       "</table>\n",
       "</div>"
      ],
      "text/plain": [
       "           model   Log_loss\n",
       "0     logregBest   0.692969\n",
       "5  gradBoostBest   0.694250\n",
       "3  ranForestBest   0.715196\n",
       "2        bagTree   0.718393\n",
       "1        knnBest   0.871868\n",
       "4   adaboostBest  17.467722"
      ]
     },
     "execution_count": 227,
     "metadata": {},
     "output_type": "execute_result"
    }
   ],
   "source": [
    "model.sort_values(by='Log_loss',ascending=True)"
   ]
  },
  {
   "cell_type": "markdown",
   "metadata": {},
   "source": [
    "    the best log_loss use logregBest model"
   ]
  },
  {
   "cell_type": "code",
   "execution_count": 228,
   "metadata": {
    "collapsed": true
   },
   "outputs": [],
   "source": [
    "x_train_new = x_train[['peubah1','peubah6','peubah7','peubah8','peubah9','peubah10','peubah14','peubah15','peubah19','peubah21']]\n",
    "x_test_new = x_test[['peubah1','peubah6','peubah7','peubah8','peubah9','peubah10','peubah14','peubah15','peubah19','peubah21']]"
   ]
  },
  {
   "cell_type": "code",
   "execution_count": 230,
   "metadata": {
    "collapsed": false
   },
   "outputs": [
    {
     "data": {
      "text/plain": [
       "LogisticRegression(C=1.0, class_weight=None, dual=False, fit_intercept=True,\n",
       "          intercept_scaling=1, max_iter=100, multi_class='ovr', n_jobs=1,\n",
       "          penalty='l2', random_state=123, solver='liblinear', tol=0.0001,\n",
       "          verbose=0, warm_start=False)"
      ]
     },
     "execution_count": 230,
     "metadata": {},
     "output_type": "execute_result"
    }
   ],
   "source": [
    "logreg = LogisticRegression(random_state=123)\n",
    "logreg.fit(x_train_new, y_train)"
   ]
  },
  {
   "cell_type": "code",
   "execution_count": 251,
   "metadata": {
    "collapsed": false
   },
   "outputs": [
    {
     "data": {
      "text/plain": [
       "10"
      ]
     },
     "execution_count": 251,
     "metadata": {},
     "output_type": "execute_result"
    }
   ],
   "source": [
    "len(range(1000,3000,200))"
   ]
  },
  {
   "cell_type": "code",
   "execution_count": 253,
   "metadata": {
    "collapsed": true
   },
   "outputs": [],
   "source": [
    "param = {'C': range(1000,3000,200)}"
   ]
  },
  {
   "cell_type": "code",
   "execution_count": 287,
   "metadata": {
    "collapsed": false
   },
   "outputs": [
    {
     "data": {
      "text/plain": [
       "0.52449149024491493"
      ]
     },
     "execution_count": 287,
     "metadata": {},
     "output_type": "execute_result"
    }
   ],
   "source": [
    "gsLogReg.best_score_"
   ]
  },
  {
   "cell_type": "markdown",
   "metadata": {},
   "source": [
    "* Fit the Best Model"
   ]
  },
  {
   "cell_type": "code",
   "execution_count": 302,
   "metadata": {
    "collapsed": false
   },
   "outputs": [
    {
     "data": {
      "text/plain": [
       "LogisticRegression(C=1200, class_weight=None, dual=False, fit_intercept=True,\n",
       "          intercept_scaling=1, max_iter=100, multi_class='ovr', n_jobs=1,\n",
       "          penalty='l2', random_state=123, solver='liblinear', tol=0.0001,\n",
       "          verbose=0, warm_start=False)"
      ]
     },
     "execution_count": 302,
     "metadata": {},
     "output_type": "execute_result"
    }
   ],
   "source": [
    "logregBest = LogisticRegression(C=1200, random_state=123)\n",
    "logregBest.fit(x_train_new, y_train)"
   ]
  },
  {
   "cell_type": "code",
   "execution_count": 303,
   "metadata": {
    "collapsed": false
   },
   "outputs": [
    {
     "name": "stdout",
     "output_type": "stream",
     "text": [
      "Accuracy  : 0.51709\n",
      "Recall    : 0.60322\n",
      "Precision : 0.51346\n",
      "F1 score  : 0.55473\n",
      "Log_loss  : 0.69281\n",
      "AUC score : 0.52023\n"
     ]
    }
   ],
   "source": [
    "evalModel(x_test_new, y_test, logregBest) #0.69284, 0.69281"
   ]
  },
  {
   "cell_type": "markdown",
   "metadata": {},
   "source": [
    "* Save Model"
   ]
  },
  {
   "cell_type": "code",
   "execution_count": 239,
   "metadata": {
    "collapsed": false
   },
   "outputs": [
    {
     "data": {
      "text/plain": [
       "['logreg.pkl']"
      ]
     },
     "execution_count": 239,
     "metadata": {},
     "output_type": "execute_result"
    }
   ],
   "source": [
    "joblib.dump(logregBest, \"logreg.pkl\")"
   ]
  },
  {
   "cell_type": "code",
   "execution_count": 301,
   "metadata": {
    "collapsed": false
   },
   "outputs": [
    {
     "name": "stdout",
     "output_type": "stream",
     "text": [
      "Fitting 5 folds for each of 2 candidates, totalling 10 fits\n"
     ]
    },
    {
     "name": "stderr",
     "output_type": "stream",
     "text": [
      "[Parallel(n_jobs=-1)]: Done   6 out of  10 | elapsed:   10.6s remaining:    7.0s\n",
      "[Parallel(n_jobs=-1)]: Done  10 out of  10 | elapsed:   13.9s finished\n"
     ]
    },
    {
     "data": {
      "text/plain": [
       "{'C': 1200}"
      ]
     },
     "execution_count": 301,
     "metadata": {},
     "output_type": "execute_result"
    }
   ],
   "source": [
    "param = {'C': range(1000,1300,100)}\n",
    "gsLogReg = GridSearchCV(estimator=logreg, param_grid=param, cv=5, \n",
    "                  n_jobs=-1, verbose=True, scoring=\"accuracy\")\n",
    "gsLogReg.fit(x_train, y_train)\n",
    "gsLogReg.best_params_"
   ]
  },
  {
   "cell_type": "code",
   "execution_count": 316,
   "metadata": {
    "collapsed": false
   },
   "outputs": [
    {
     "name": "stdout",
     "output_type": "stream",
     "text": [
      "Fitting 5 folds for each of 20 candidates, totalling 100 fits\n"
     ]
    },
    {
     "name": "stderr",
     "output_type": "stream",
     "text": [
      "[Parallel(n_jobs=1)]: Done 100 out of 100 | elapsed:    7.0s finished\n"
     ]
    },
    {
     "data": {
      "text/plain": [
       "{'C': 1120}"
      ]
     },
     "execution_count": 316,
     "metadata": {},
     "output_type": "execute_result"
    }
   ],
   "source": [
    "    param = {'C': range(1100,1200,5)}\n",
    "    gsLogReg = GridSearchCV(estimator=logreg, param_grid=param, cv=5, \n",
    "                  n_jobs=1, verbose=True, scoring=\"accuracy\")\n",
    "    gsLogReg.fit(x_train_new, y_train)\n",
    "    (gsLogReg.best_params_)"
   ]
  },
  {
   "cell_type": "code",
   "execution_count": 317,
   "metadata": {
    "collapsed": false
   },
   "outputs": [
    {
     "data": {
      "text/plain": [
       "LogisticRegression(C=1120, class_weight=None, dual=False, fit_intercept=True,\n",
       "          intercept_scaling=1, max_iter=100, multi_class='ovr', n_jobs=1,\n",
       "          penalty='l2', random_state=123, solver='liblinear', tol=0.0001,\n",
       "          verbose=0, warm_start=False)"
      ]
     },
     "execution_count": 317,
     "metadata": {},
     "output_type": "execute_result"
    }
   ],
   "source": [
    "logregBest = LogisticRegression(C=1120, random_state=123)\n",
    "logregBest.fit(x_train_new, y_train)"
   ]
  },
  {
   "cell_type": "code",
   "execution_count": 318,
   "metadata": {
    "collapsed": false
   },
   "outputs": [
    {
     "name": "stdout",
     "output_type": "stream",
     "text": [
      "Accuracy  : 0.51695\n",
      "Recall    : 0.60322\n",
      "Precision : 0.51334\n",
      "F1 score  : 0.55466\n",
      "Log_loss  : 0.69281\n",
      "AUC score : 0.52022\n"
     ]
    }
   ],
   "source": [
    "evalModel(x_test_new, y_test, logregBest) #0.69284, 0.69281"
   ]
  },
  {
   "cell_type": "code",
   "execution_count": 314,
   "metadata": {
    "collapsed": false
   },
   "outputs": [
    {
     "name": "stdout",
     "output_type": "stream",
     "text": [
      "[1100, 1105, 1110, 1115, 1120, 1125, 1130, 1135, 1140, 1145, 1150, 1155, 1160, 1165, 1170, 1175, 1180, 1185, 1190, 1195]\n"
     ]
    },
    {
     "data": {
      "text/plain": [
       "20"
      ]
     },
     "execution_count": 314,
     "metadata": {},
     "output_type": "execute_result"
    }
   ],
   "source": [
    "oke = range(1100,1200,5)\n",
    "print(oke)\n",
    "len(oke)\n",
    "# range(1000,2000,200)"
   ]
  },
  {
   "cell_type": "code",
   "execution_count": 285,
   "metadata": {
    "collapsed": false
   },
   "outputs": [
    {
     "name": "stdout",
     "output_type": "stream",
     "text": [
      "Fitting 5 folds for each of 5 candidates, totalling 25 fits\n"
     ]
    },
    {
     "name": "stderr",
     "output_type": "stream",
     "text": [
      "[Parallel(n_jobs=-1)]: Done  25 out of  25 | elapsed:   15.0s finished\n"
     ]
    },
    {
     "data": {
      "text/plain": [
       "{'C': 1000}"
      ]
     },
     "execution_count": 285,
     "metadata": {},
     "output_type": "execute_result"
    }
   ],
   "source": [
    "param = {'C': range(1000,2000,200)}\n",
    "gsLogReg = GridSearchCV(estimator=logreg, param_grid=param, cv=5, \n",
    "                  n_jobs=-1, verbose=True, scoring=\"accuracy\")\n",
    "gsLogReg.fit(x_train_new, y_train)\n",
    "gsLogReg.best_params_"
   ]
  },
  {
   "cell_type": "code",
   "execution_count": 319,
   "metadata": {
    "collapsed": false
   },
   "outputs": [
    {
     "data": {
      "text/html": [
       "<div>\n",
       "<table border=\"1\" class=\"dataframe\">\n",
       "  <thead>\n",
       "    <tr style=\"text-align: right;\">\n",
       "      <th></th>\n",
       "      <th>peubah1</th>\n",
       "      <th>peubah6</th>\n",
       "      <th>peubah7</th>\n",
       "      <th>peubah8</th>\n",
       "      <th>peubah9</th>\n",
       "      <th>peubah10</th>\n",
       "      <th>peubah14</th>\n",
       "      <th>peubah15</th>\n",
       "      <th>peubah19</th>\n",
       "      <th>peubah21</th>\n",
       "    </tr>\n",
       "  </thead>\n",
       "  <tbody>\n",
       "    <tr>\n",
       "      <th>peubah1</th>\n",
       "      <td>1.000000</td>\n",
       "      <td>-0.333078</td>\n",
       "      <td>0.209052</td>\n",
       "      <td>-0.941927</td>\n",
       "      <td>0.493855</td>\n",
       "      <td>-0.234794</td>\n",
       "      <td>-0.388123</td>\n",
       "      <td>-0.000010</td>\n",
       "      <td>0.313586</td>\n",
       "      <td>-0.201005</td>\n",
       "    </tr>\n",
       "    <tr>\n",
       "      <th>peubah6</th>\n",
       "      <td>-0.333078</td>\n",
       "      <td>1.000000</td>\n",
       "      <td>-0.561723</td>\n",
       "      <td>0.400276</td>\n",
       "      <td>-0.503567</td>\n",
       "      <td>0.651069</td>\n",
       "      <td>-0.301038</td>\n",
       "      <td>-0.130133</td>\n",
       "      <td>-0.465105</td>\n",
       "      <td>-0.469854</td>\n",
       "    </tr>\n",
       "    <tr>\n",
       "      <th>peubah7</th>\n",
       "      <td>0.209052</td>\n",
       "      <td>-0.561723</td>\n",
       "      <td>1.000000</td>\n",
       "      <td>-0.428224</td>\n",
       "      <td>-0.140011</td>\n",
       "      <td>-0.656195</td>\n",
       "      <td>0.812171</td>\n",
       "      <td>0.743333</td>\n",
       "      <td>0.865462</td>\n",
       "      <td>0.359874</td>\n",
       "    </tr>\n",
       "    <tr>\n",
       "      <th>peubah8</th>\n",
       "      <td>-0.941927</td>\n",
       "      <td>0.400276</td>\n",
       "      <td>-0.428224</td>\n",
       "      <td>1.000000</td>\n",
       "      <td>-0.373751</td>\n",
       "      <td>0.392271</td>\n",
       "      <td>0.144598</td>\n",
       "      <td>-0.259205</td>\n",
       "      <td>-0.573286</td>\n",
       "      <td>0.145514</td>\n",
       "    </tr>\n",
       "    <tr>\n",
       "      <th>peubah9</th>\n",
       "      <td>0.493855</td>\n",
       "      <td>-0.503567</td>\n",
       "      <td>-0.140011</td>\n",
       "      <td>-0.373751</td>\n",
       "      <td>1.000000</td>\n",
       "      <td>-0.505570</td>\n",
       "      <td>-0.494814</td>\n",
       "      <td>-0.657073</td>\n",
       "      <td>-0.175283</td>\n",
       "      <td>0.483343</td>\n",
       "    </tr>\n",
       "    <tr>\n",
       "      <th>peubah10</th>\n",
       "      <td>-0.234794</td>\n",
       "      <td>0.651069</td>\n",
       "      <td>-0.656195</td>\n",
       "      <td>0.392271</td>\n",
       "      <td>-0.505570</td>\n",
       "      <td>1.000000</td>\n",
       "      <td>-0.407957</td>\n",
       "      <td>-0.135636</td>\n",
       "      <td>-0.565873</td>\n",
       "      <td>-0.805866</td>\n",
       "    </tr>\n",
       "    <tr>\n",
       "      <th>peubah14</th>\n",
       "      <td>-0.388123</td>\n",
       "      <td>-0.301038</td>\n",
       "      <td>0.812171</td>\n",
       "      <td>0.144598</td>\n",
       "      <td>-0.494814</td>\n",
       "      <td>-0.407957</td>\n",
       "      <td>1.000000</td>\n",
       "      <td>0.760303</td>\n",
       "      <td>0.651516</td>\n",
       "      <td>0.363295</td>\n",
       "    </tr>\n",
       "    <tr>\n",
       "      <th>peubah15</th>\n",
       "      <td>-0.000010</td>\n",
       "      <td>-0.130133</td>\n",
       "      <td>0.743333</td>\n",
       "      <td>-0.259205</td>\n",
       "      <td>-0.657073</td>\n",
       "      <td>-0.135636</td>\n",
       "      <td>0.760303</td>\n",
       "      <td>1.000000</td>\n",
       "      <td>0.840717</td>\n",
       "      <td>-0.206860</td>\n",
       "    </tr>\n",
       "    <tr>\n",
       "      <th>peubah19</th>\n",
       "      <td>0.313586</td>\n",
       "      <td>-0.465105</td>\n",
       "      <td>0.865462</td>\n",
       "      <td>-0.573286</td>\n",
       "      <td>-0.175283</td>\n",
       "      <td>-0.565873</td>\n",
       "      <td>0.651516</td>\n",
       "      <td>0.840717</td>\n",
       "      <td>1.000000</td>\n",
       "      <td>0.127944</td>\n",
       "    </tr>\n",
       "    <tr>\n",
       "      <th>peubah21</th>\n",
       "      <td>-0.201005</td>\n",
       "      <td>-0.469854</td>\n",
       "      <td>0.359874</td>\n",
       "      <td>0.145514</td>\n",
       "      <td>0.483343</td>\n",
       "      <td>-0.805866</td>\n",
       "      <td>0.363295</td>\n",
       "      <td>-0.206860</td>\n",
       "      <td>0.127944</td>\n",
       "      <td>1.000000</td>\n",
       "    </tr>\n",
       "  </tbody>\n",
       "</table>\n",
       "</div>"
      ],
      "text/plain": [
       "           peubah1   peubah6   peubah7   peubah8   peubah9  peubah10  \\\n",
       "peubah1   1.000000 -0.333078  0.209052 -0.941927  0.493855 -0.234794   \n",
       "peubah6  -0.333078  1.000000 -0.561723  0.400276 -0.503567  0.651069   \n",
       "peubah7   0.209052 -0.561723  1.000000 -0.428224 -0.140011 -0.656195   \n",
       "peubah8  -0.941927  0.400276 -0.428224  1.000000 -0.373751  0.392271   \n",
       "peubah9   0.493855 -0.503567 -0.140011 -0.373751  1.000000 -0.505570   \n",
       "peubah10 -0.234794  0.651069 -0.656195  0.392271 -0.505570  1.000000   \n",
       "peubah14 -0.388123 -0.301038  0.812171  0.144598 -0.494814 -0.407957   \n",
       "peubah15 -0.000010 -0.130133  0.743333 -0.259205 -0.657073 -0.135636   \n",
       "peubah19  0.313586 -0.465105  0.865462 -0.573286 -0.175283 -0.565873   \n",
       "peubah21 -0.201005 -0.469854  0.359874  0.145514  0.483343 -0.805866   \n",
       "\n",
       "          peubah14  peubah15  peubah19  peubah21  \n",
       "peubah1  -0.388123 -0.000010  0.313586 -0.201005  \n",
       "peubah6  -0.301038 -0.130133 -0.465105 -0.469854  \n",
       "peubah7   0.812171  0.743333  0.865462  0.359874  \n",
       "peubah8   0.144598 -0.259205 -0.573286  0.145514  \n",
       "peubah9  -0.494814 -0.657073 -0.175283  0.483343  \n",
       "peubah10 -0.407957 -0.135636 -0.565873 -0.805866  \n",
       "peubah14  1.000000  0.760303  0.651516  0.363295  \n",
       "peubah15  0.760303  1.000000  0.840717 -0.206860  \n",
       "peubah19  0.651516  0.840717  1.000000  0.127944  \n",
       "peubah21  0.363295 -0.206860  0.127944  1.000000  "
      ]
     },
     "execution_count": 319,
     "metadata": {},
     "output_type": "execute_result"
    }
   ],
   "source": [
    "x_train_new.corr()"
   ]
  },
  {
   "cell_type": "code",
   "execution_count": 324,
   "metadata": {
    "collapsed": false
   },
   "outputs": [
    {
     "data": {
      "image/png": "[encoded data removed]",
      "text/plain": [
       "<matplotlib.figure.Figure at 0x9b672c50>"
      ]
     },
     "metadata": {},
     "output_type": "display_data"
    }
   ],
   "source": [
    "g = sns.PairGrid(x_train_new)\n",
    "g.map_diag(plt.hist)\n",
    "g.map_offdiag(plt.scatter);\n",
    "plt.show(g)"
   ]
  },
  {
   "cell_type": "code",
   "execution_count": 323,
   "metadata": {
    "collapsed": false
   },
   "outputs": [
    {
     "name": "stderr",
     "output_type": "stream",
     "text": [
      "C:\\ProgramData\\Anaconda2\\lib\\site-packages\\ipykernel\\__main__.py:1: SettingWithCopyWarning: \n",
      "A value is trying to be set on a copy of a slice from a DataFrame.\n",
      "Try using .loc[row_indexer,col_indexer] = value instead\n",
      "\n",
      "See the caveats in the documentation: http://pandas.pydata.org/pandas-docs/stable/indexing.html#indexing-view-versus-copy\n",
      "  if __name__ == '__main__':\n"
     ]
    }
   ],
   "source": [
    "x_train_new['peubah22'] = (x_train_new['peubah14']+x_train_new['peubah15']+x_train_new['peubah19']+x_train_new['peubah7'])/4"
   ]
  },
  {
   "cell_type": "code",
   "execution_count": 325,
   "metadata": {
    "collapsed": true
   },
   "outputs": [],
   "source": [
    "import os\n",
    "from PIL import Image\n",
    "import numpy as np\n",
    "import numpy.linalg as linalg\n"
   ]
  },
  {
   "cell_type": "code",
   "execution_count": 326,
   "metadata": {
    "collapsed": true
   },
   "outputs": [],
   "source": [
    "korelasi = x_train.corr()"
   ]
  },
  {
   "cell_type": "code",
   "execution_count": 327,
   "metadata": {
    "collapsed": true
   },
   "outputs": [],
   "source": [
    "eigenvalues,eigenvectors = linalg.eig(korelasi)\n",
    "idx = np.argsort(-eigenvalues)\n",
    "eigenvalues = eigenvalues[idx]\n",
    "eigenvectors = eigenvectors[:, idx]"
   ]
  },
  {
   "cell_type": "code",
   "execution_count": 329,
   "metadata": {
    "collapsed": false
   },
   "outputs": [
    {
     "data": {
      "text/plain": [
       "21"
      ]
     },
     "execution_count": 329,
     "metadata": {},
     "output_type": "execute_result"
    }
   ],
   "source": [
    "len(x_train.columns)"
   ]
  },
  {
   "cell_type": "code",
   "execution_count": 330,
   "metadata": {
    "collapsed": true
   },
   "outputs": [],
   "source": [
    "#Step 5: Only keep the top 'num_eigenfaces' eigenvectors\n",
    "num_components = len(x_train.columns)\n",
    "eigenvalues = eigenvalues[0:num_components].copy()\n",
    "eigenvectors = eigenvectors[:, 0:num_components].copy()"
   ]
  },
  {
   "cell_type": "code",
   "execution_count": null,
   "metadata": {
    "collapsed": true
   },
   "outputs": [],
   "source": []
  }
 ],
 "metadata": {
  "kernelspec": {
   "display_name": "Python 2",
   "language": "python",
   "name": "python2"
  },
  "language_info": {
   "codemirror_mode": {
    "name": "ipython",
    "version": 2
   },
   "file_extension": ".py",
   "mimetype": "text/x-python",
   "name": "python",
   "nbconvert_exporter": "python",
   "pygments_lexer": "ipython2",
   "version": "2.7.13"
  }
 },
 "nbformat": 4,
 "nbformat_minor": 2
}
